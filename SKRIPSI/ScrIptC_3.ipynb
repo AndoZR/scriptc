{
 "cells": [
  {
   "cell_type": "markdown",
   "metadata": {},
   "source": [
    "# **Analys The Problem**"
   ]
  },
  {
   "cell_type": "markdown",
   "metadata": {},
   "source": [
    "Previously on papper \"Facial Expression Recognition Methods in the Wild Based on Fusion Feature of Attention Mechanism and LBP (MDPI Sensors 2023 Q2)\" authors used a model called ResNet-50 combined CBAM and LBP.\n",
    "\n",
    "The accuracy took:\n",
    "- 99.66% on CK+\n",
    "- 74.23% on FER-2013\n",
    "- 89.50 on FER-PLUS \n",
    "- 88.20 on RAF-DB\n",
    "\n",
    "**The problem: What if I change the variant of LBP in this method, does it increase the accuracy spesifically for FER-2013 dataset?**"
   ]
  },
  {
   "cell_type": "markdown",
   "metadata": {},
   "source": [
    "# **About Dataset**"
   ]
  },
  {
   "cell_type": "markdown",
   "metadata": {},
   "source": [
    "- The paper used 4 dataset include CK+(59 images), FER-2013 (35,887 images), FER-PLUS(31.412 images), RAF-DB (29,672 images)\n",
    "- CK+ is a controlled dataset and the 3 others datasets are uncontrolled datasets\n",
    "- Controlled dataset has good lightning and pose but uncontrolled datasets got a random of it"
   ]
  },
  {
   "cell_type": "markdown",
   "metadata": {},
   "source": [
    "# **Method**"
   ]
  },
  {
   "cell_type": "markdown",
   "metadata": {},
   "source": [
    "## Paper's Method"
   ]
  },
  {
   "cell_type": "markdown",
   "metadata": {},
   "source": [
    "- **ResNet-18 + CBAM**\n",
    "\n",
    "    1. Architecture of ResNet-18:\n",
    "    \n",
    "        <img src=\"../src/Structure-of-a-ResNet-18-architecture.png\" alt=\"Windowing of Feature in Faces\" width=\"350\" height=\"250\">\n",
    "\n",
    "    2. CBAM Architecture:\n",
    "\n",
    "        <img src=\"../src/cbam.png\" alt=\"Windowing of Feature in Faces\" width=\"600\" height=\"100\">\n",
    "\n",
    "    3. Authors combine the CBAM module into each block of the ResNet-18 architecture,\n",
    "    \n",
    "        Before and After implement the CBAM module:\n",
    "\n",
    "        <img src=\"../src/oriblock.png\" alt=\"Windowing of Feature in Faces\" width=\"150\" height=\"200\">\n",
    "        <img src=\"../src/blocknCbam.png\" alt=\"Windowing of Feature in Faces\" width=\"150\" height=\"200\">\n",
    "\n",
    "- **Local Binary Patterns (LBP)**\n",
    "\n",
    "    LBP is one of the most generally used texture pattern descriptors for examining local grain features and is regarded as one of the best methods for texture processing, which is widely employed in image processing.\n",
    "\n",
    "- **RCL-Net Model**\n",
    "\n",
    "    After combining all the method such as LBP and ResNet-CBAM, this architecture called by **RCL-Net Model**,\n",
    "\n",
    "    <img src=\"../src/rcl-net.png\" alt=\"Windowing of Feature in Faces\" width=\"700\" height=\"200\">\n",
    "\n"
   ]
  },
  {
   "cell_type": "markdown",
   "metadata": {},
   "source": [
    "## Proposed Method"
   ]
  },
  {
   "cell_type": "markdown",
   "metadata": {},
   "source": [
    "- In planning, switching LBP method in previous architecture with the newest or other variant LBP"
   ]
  },
  {
   "cell_type": "markdown",
   "metadata": {},
   "source": [
    "# **IMPORT LIBRARIES**"
   ]
  },
  {
   "cell_type": "code",
   "execution_count": 1,
   "metadata": {},
   "outputs": [
    {
     "name": "stderr",
     "output_type": "stream",
     "text": [
      "d:\\Ando File 4 Kuliah\\A SKRIPSI\\RISETku\\KERJA\\CODE\\venv\\Lib\\site-packages\\albumentations\\__init__.py:13: UserWarning: A new version of Albumentations is available: 1.4.18 (you have 1.4.16). Upgrade using: pip install -U albumentations. To disable automatic update checks, set the environment variable NO_ALBUMENTATIONS_UPDATE to 1.\n",
      "  check_for_updates()\n"
     ]
    }
   ],
   "source": [
    "import pandas as pd\n",
    "import numpy as np\n",
    "from PIL import Image\n",
    "import matplotlib.pyplot as plt\n",
    "from tqdm import tqdm\n",
    "\n",
    "# for augmen:\n",
    "import albumentations as A\n",
    "from albumentations.pytorch import ToTensorV2\n",
    "import torchvision.transforms as T\n",
    "\n",
    "# for mixup augmen:\n",
    "import torch\n",
    "import random\n",
    "\n",
    "# mixup from train.py file\n",
    "import argparse\n",
    "import os\n",
    "import sys\n",
    "\n",
    "# LBP\n",
    "import cv2\n",
    "import torch.nn as nn\n",
    "import math\n",
    "\n",
    "from torch.utils.data import Dataset, DataLoader"
   ]
  },
  {
   "cell_type": "code",
   "execution_count": 2,
   "metadata": {},
   "outputs": [
    {
     "name": "stdout",
     "output_type": "stream",
     "text": [
      "True\n"
     ]
    }
   ],
   "source": [
    "print(torch.cuda.is_available())"
   ]
  },
  {
   "cell_type": "code",
   "execution_count": 3,
   "metadata": {},
   "outputs": [],
   "source": [
    "torch.cuda.empty_cache()  # Bersihkan cache CUDA"
   ]
  },
  {
   "cell_type": "markdown",
   "metadata": {},
   "source": [
    "# **DATA LOADING**"
   ]
  },
  {
   "cell_type": "markdown",
   "metadata": {},
   "source": [
    "- Making dataframe:"
   ]
  },
  {
   "cell_type": "code",
   "execution_count": 4,
   "metadata": {},
   "outputs": [],
   "source": [
    "# Baca file CSV\n",
    "# file_path_train = 'D:/Ando File 4 Kuliah/A SKRIPSI/RISETku/KERJA/DATA/challenges-in-representation-learning-facial-expression-recognition-challenge/train.csv'  # Ganti dengan lokasi file kamu\n",
    "# df_train = pd.read_csv(file_path_train)\n",
    "\n",
    "# file_path_test = 'D:/Ando File 4 Kuliah/A SKRIPSI/RISETku/KERJA/DATA/challenges-in-representation-learning-facial-expression-recognition-challenge/test.csv'  # Ganti dengan lokasi file kamu\n",
    "# df_test = pd.read_csv(file_path_test)\n",
    "\n",
    "file_path = 'D:/Ando File 4 Kuliah/A SKRIPSI/RISETku/KERJA/DATA/challenges-in-representation-learning-facial-expression-recognition-challenge/icml_face_data.csv'  # Ganti dengan lokasi file kamu\n",
    "df = pd.read_csv(file_path)"
   ]
  },
  {
   "cell_type": "markdown",
   "metadata": {},
   "source": [
    "- Visualize the data on datatables:"
   ]
  },
  {
   "cell_type": "code",
   "execution_count": 5,
   "metadata": {},
   "outputs": [
    {
     "data": {
      "text/html": [
       "<div>\n",
       "<style scoped>\n",
       "    .dataframe tbody tr th:only-of-type {\n",
       "        vertical-align: middle;\n",
       "    }\n",
       "\n",
       "    .dataframe tbody tr th {\n",
       "        vertical-align: top;\n",
       "    }\n",
       "\n",
       "    .dataframe thead th {\n",
       "        text-align: right;\n",
       "    }\n",
       "</style>\n",
       "<table border=\"1\" class=\"dataframe\">\n",
       "  <thead>\n",
       "    <tr style=\"text-align: right;\">\n",
       "      <th></th>\n",
       "      <th>emotion</th>\n",
       "      <th>Usage</th>\n",
       "      <th>pixels</th>\n",
       "    </tr>\n",
       "  </thead>\n",
       "  <tbody>\n",
       "    <tr>\n",
       "      <th>0</th>\n",
       "      <td>0</td>\n",
       "      <td>Training</td>\n",
       "      <td>70 80 82 72 58 58 60 63 54 58 60 48 89 115 121...</td>\n",
       "    </tr>\n",
       "    <tr>\n",
       "      <th>1</th>\n",
       "      <td>0</td>\n",
       "      <td>Training</td>\n",
       "      <td>151 150 147 155 148 133 111 140 170 174 182 15...</td>\n",
       "    </tr>\n",
       "    <tr>\n",
       "      <th>2</th>\n",
       "      <td>2</td>\n",
       "      <td>Training</td>\n",
       "      <td>231 212 156 164 174 138 161 173 182 200 106 38...</td>\n",
       "    </tr>\n",
       "    <tr>\n",
       "      <th>3</th>\n",
       "      <td>4</td>\n",
       "      <td>Training</td>\n",
       "      <td>24 32 36 30 32 23 19 20 30 41 21 22 32 34 21 1...</td>\n",
       "    </tr>\n",
       "    <tr>\n",
       "      <th>4</th>\n",
       "      <td>6</td>\n",
       "      <td>Training</td>\n",
       "      <td>4 0 0 0 0 0 0 0 0 0 0 0 3 15 23 28 48 50 58 84...</td>\n",
       "    </tr>\n",
       "  </tbody>\n",
       "</table>\n",
       "</div>"
      ],
      "text/plain": [
       "   emotion     Usage                                             pixels\n",
       "0        0  Training  70 80 82 72 58 58 60 63 54 58 60 48 89 115 121...\n",
       "1        0  Training  151 150 147 155 148 133 111 140 170 174 182 15...\n",
       "2        2  Training  231 212 156 164 174 138 161 173 182 200 106 38...\n",
       "3        4  Training  24 32 36 30 32 23 19 20 30 41 21 22 32 34 21 1...\n",
       "4        6  Training  4 0 0 0 0 0 0 0 0 0 0 0 3 15 23 28 48 50 58 84..."
      ]
     },
     "execution_count": 5,
     "metadata": {},
     "output_type": "execute_result"
    }
   ],
   "source": [
    "df.head()"
   ]
  },
  {
   "cell_type": "markdown",
   "metadata": {},
   "source": [
    "# **PREPROCESSING**"
   ]
  },
  {
   "cell_type": "markdown",
   "metadata": {},
   "source": [
    "## Resized Image 100 x 100:"
   ]
  },
  {
   "cell_type": "markdown",
   "metadata": {},
   "source": [
    "- Define function resized:"
   ]
  },
  {
   "cell_type": "code",
   "execution_count": 6,
   "metadata": {},
   "outputs": [],
   "source": [
    "# Fungsi untuk mengubah string pixel menjadi gambar\n",
    "def convert_to_image(pixels, size=(48, 48), new_size=(100, 100)):\n",
    "    # Ubah string pixel menjadi array\n",
    "    pixel_values = np.array(pixels.split(), dtype=np.uint8)\n",
    "    \n",
    "    # Ubah array 1D menjadi array 2D\n",
    "    image = pixel_values.reshape(size)\n",
    "    \n",
    "    # Buat gambar dari array 2D\n",
    "    img = Image.fromarray(image)\n",
    "    \n",
    "    # Ubah ukuran gambar menggunakan LANCZOS untuk kualitas terbaik\n",
    "    resized_img = img.resize(new_size, Image.Resampling.LANCZOS)\n",
    "    \n",
    "    return resized_img"
   ]
  },
  {
   "cell_type": "markdown",
   "metadata": {},
   "source": [
    "- Processing the resize to all images and saved to new dataframe:"
   ]
  },
  {
   "cell_type": "code",
   "execution_count": 7,
   "metadata": {},
   "outputs": [
    {
     "name": "stderr",
     "output_type": "stream",
     "text": [
      "Processing Images: 100%|██████████| 35887/35887 [03:57<00:00, 151.05it/s]\n"
     ]
    }
   ],
   "source": [
    "df_resized = pd.DataFrame(columns=['emotion', 'usage', 'resized_pixels']) # DataFrame baru untuk menyimpan gambar yang sudah diproses\n",
    "\n",
    "# Proses setiap baris di DataFrame asli dengan progress bar\n",
    "for index, row in tqdm(df.iterrows(), total=df.shape[0], desc=\"Processing Images\"):\n",
    "    pixels = row[' pixels']\n",
    "    \n",
    "    # Konversi pixel menjadi gambar dan resize\n",
    "    resized_image = convert_to_image(pixels)\n",
    "    \n",
    "    # Ubah gambar yang diresize menjadi array 1D untuk disimpan dalam DataFrame\n",
    "    resized_image_array = np.array(resized_image).flatten()\n",
    "    \n",
    "    # Buat DataFrame baru untuk baris ini\n",
    "    new_row = pd.DataFrame({\n",
    "        'emotion': [row['emotion']],\n",
    "        'usage': [row[' Usage']],\n",
    "        'resized_pixels': [' '.join(resized_image_array.astype(str))]\n",
    "    })\n",
    "    \n",
    "    # Gabungkan baris baru dengan DataFrame yang sudah ada\n",
    "    df_resized = pd.concat([df_resized, new_row], ignore_index=True)"
   ]
  },
  {
   "cell_type": "markdown",
   "metadata": {},
   "source": [
    "- Checking info of dataset:"
   ]
  },
  {
   "cell_type": "code",
   "execution_count": 8,
   "metadata": {},
   "outputs": [
    {
     "name": "stdout",
     "output_type": "stream",
     "text": [
      "<class 'pandas.core.frame.DataFrame'>\n",
      "RangeIndex: 35887 entries, 0 to 35886\n",
      "Data columns (total 3 columns):\n",
      " #   Column          Non-Null Count  Dtype \n",
      "---  ------          --------------  ----- \n",
      " 0   emotion         35887 non-null  object\n",
      " 1   usage           35887 non-null  object\n",
      " 2   resized_pixels  35887 non-null  object\n",
      "dtypes: object(3)\n",
      "memory usage: 841.2+ KB\n"
     ]
    }
   ],
   "source": [
    "df_resized.info()"
   ]
  },
  {
   "cell_type": "code",
   "execution_count": 9,
   "metadata": {},
   "outputs": [
    {
     "data": {
      "text/html": [
       "<div>\n",
       "<style scoped>\n",
       "    .dataframe tbody tr th:only-of-type {\n",
       "        vertical-align: middle;\n",
       "    }\n",
       "\n",
       "    .dataframe tbody tr th {\n",
       "        vertical-align: top;\n",
       "    }\n",
       "\n",
       "    .dataframe thead th {\n",
       "        text-align: right;\n",
       "    }\n",
       "</style>\n",
       "<table border=\"1\" class=\"dataframe\">\n",
       "  <thead>\n",
       "    <tr style=\"text-align: right;\">\n",
       "      <th></th>\n",
       "      <th>emotion</th>\n",
       "      <th>usage</th>\n",
       "      <th>resized_pixels</th>\n",
       "    </tr>\n",
       "  </thead>\n",
       "  <tbody>\n",
       "    <tr>\n",
       "      <th>count</th>\n",
       "      <td>35887</td>\n",
       "      <td>35887</td>\n",
       "      <td>35887</td>\n",
       "    </tr>\n",
       "    <tr>\n",
       "      <th>unique</th>\n",
       "      <td>7</td>\n",
       "      <td>3</td>\n",
       "      <td>34034</td>\n",
       "    </tr>\n",
       "    <tr>\n",
       "      <th>top</th>\n",
       "      <td>3</td>\n",
       "      <td>Training</td>\n",
       "      <td>0 0 0 0 0 0 0 0 0 0 0 0 0 0 0 0 0 0 0 0 0 0 0 ...</td>\n",
       "    </tr>\n",
       "    <tr>\n",
       "      <th>freq</th>\n",
       "      <td>8989</td>\n",
       "      <td>28709</td>\n",
       "      <td>12</td>\n",
       "    </tr>\n",
       "  </tbody>\n",
       "</table>\n",
       "</div>"
      ],
      "text/plain": [
       "        emotion     usage                                     resized_pixels\n",
       "count     35887     35887                                              35887\n",
       "unique        7         3                                              34034\n",
       "top           3  Training  0 0 0 0 0 0 0 0 0 0 0 0 0 0 0 0 0 0 0 0 0 0 0 ...\n",
       "freq       8989     28709                                                 12"
      ]
     },
     "execution_count": 9,
     "metadata": {},
     "output_type": "execute_result"
    }
   ],
   "source": [
    "df_resized.describe()"
   ]
  },
  {
   "cell_type": "code",
   "execution_count": 10,
   "metadata": {},
   "outputs": [
    {
     "data": {
      "text/html": [
       "<div>\n",
       "<style scoped>\n",
       "    .dataframe tbody tr th:only-of-type {\n",
       "        vertical-align: middle;\n",
       "    }\n",
       "\n",
       "    .dataframe tbody tr th {\n",
       "        vertical-align: top;\n",
       "    }\n",
       "\n",
       "    .dataframe thead th {\n",
       "        text-align: right;\n",
       "    }\n",
       "</style>\n",
       "<table border=\"1\" class=\"dataframe\">\n",
       "  <thead>\n",
       "    <tr style=\"text-align: right;\">\n",
       "      <th></th>\n",
       "      <th>emotion</th>\n",
       "      <th>usage</th>\n",
       "      <th>resized_pixels</th>\n",
       "    </tr>\n",
       "  </thead>\n",
       "  <tbody>\n",
       "    <tr>\n",
       "      <th>0</th>\n",
       "      <td>0</td>\n",
       "      <td>Training</td>\n",
       "      <td>69 71 77 84 86 84 80 72 64 59 57 57 57 58 61 6...</td>\n",
       "    </tr>\n",
       "    <tr>\n",
       "      <th>1</th>\n",
       "      <td>0</td>\n",
       "      <td>Training</td>\n",
       "      <td>151 151 151 149 147 148 152 155 153 148 144 13...</td>\n",
       "    </tr>\n",
       "    <tr>\n",
       "      <th>2</th>\n",
       "      <td>2</td>\n",
       "      <td>Training</td>\n",
       "      <td>230 232 227 205 173 154 153 166 178 175 154 13...</td>\n",
       "    </tr>\n",
       "    <tr>\n",
       "      <th>3</th>\n",
       "      <td>4</td>\n",
       "      <td>Training</td>\n",
       "      <td>23 25 28 34 37 36 32 29 31 32 28 23 20 19 18 2...</td>\n",
       "    </tr>\n",
       "    <tr>\n",
       "      <th>4</th>\n",
       "      <td>6</td>\n",
       "      <td>Training</td>\n",
       "      <td>6 3 1 0 0 0 0 0 0 0 0 0 0 0 0 0 0 0 0 0 0 0 0 ...</td>\n",
       "    </tr>\n",
       "  </tbody>\n",
       "</table>\n",
       "</div>"
      ],
      "text/plain": [
       "  emotion     usage                                     resized_pixels\n",
       "0       0  Training  69 71 77 84 86 84 80 72 64 59 57 57 57 58 61 6...\n",
       "1       0  Training  151 151 151 149 147 148 152 155 153 148 144 13...\n",
       "2       2  Training  230 232 227 205 173 154 153 166 178 175 154 13...\n",
       "3       4  Training  23 25 28 34 37 36 32 29 31 32 28 23 20 19 18 2...\n",
       "4       6  Training  6 3 1 0 0 0 0 0 0 0 0 0 0 0 0 0 0 0 0 0 0 0 0 ..."
      ]
     },
     "execution_count": 10,
     "metadata": {},
     "output_type": "execute_result"
    }
   ],
   "source": [
    "df_resized.head()"
   ]
  },
  {
   "cell_type": "markdown",
   "metadata": {},
   "source": [
    "Checking column's names:"
   ]
  },
  {
   "cell_type": "code",
   "execution_count": 11,
   "metadata": {},
   "outputs": [
    {
     "data": {
      "text/plain": [
       "Index(['emotion', 'usage', 'resized_pixels'], dtype='object')"
      ]
     },
     "execution_count": 11,
     "metadata": {},
     "output_type": "execute_result"
    }
   ],
   "source": [
    "df_resized.columns"
   ]
  },
  {
   "cell_type": "markdown",
   "metadata": {},
   "source": [
    "Checking unique value in \"Usage\" columnns:"
   ]
  },
  {
   "cell_type": "code",
   "execution_count": 12,
   "metadata": {},
   "outputs": [
    {
     "data": {
      "text/plain": [
       "array(['Training', 'PublicTest', 'PrivateTest'], dtype=object)"
      ]
     },
     "execution_count": 12,
     "metadata": {},
     "output_type": "execute_result"
    }
   ],
   "source": [
    "df_resized['usage'].unique()"
   ]
  },
  {
   "cell_type": "markdown",
   "metadata": {},
   "source": [
    "Separating between trai, public, and private test:"
   ]
  },
  {
   "cell_type": "code",
   "execution_count": 13,
   "metadata": {},
   "outputs": [],
   "source": [
    "# Filter data yang Usage-nya \"Training\"\n",
    "df_train = df_resized[df_resized['usage'] == 'Training']\n",
    "df_public_test = df_resized[df_resized['usage'] == 'PublicTest']\n",
    "df_private_test = df_resized[df_resized['usage'] == 'PrivateTest']"
   ]
  },
  {
   "cell_type": "markdown",
   "metadata": {},
   "source": [
    "- Checking total of row and column:"
   ]
  },
  {
   "cell_type": "code",
   "execution_count": 14,
   "metadata": {},
   "outputs": [
    {
     "name": "stdout",
     "output_type": "stream",
     "text": [
      "(28709, 3)\n",
      "(3589, 3)\n",
      "(3589, 3)\n"
     ]
    }
   ],
   "source": [
    "print(df_train.shape)\n",
    "print(df_public_test.shape)\n",
    "print(df_private_test.shape)"
   ]
  },
  {
   "cell_type": "markdown",
   "metadata": {},
   "source": [
    "- Before Resized 48x48:"
   ]
  },
  {
   "cell_type": "code",
   "execution_count": 15,
   "metadata": {},
   "outputs": [
    {
     "data": {
      "image/png": "[encoded data removed]",
      "text/plain": [
       "<Figure size 640x480 with 1 Axes>"
      ]
     },
     "metadata": {},
     "output_type": "display_data"
    }
   ],
   "source": [
    "# Ambil data pixels dari baris yang diinginkan\n",
    "row_index = 0  # Ganti dengan indeks baris yang diinginkan\n",
    "pixels = df[' pixels'][row_index]\n",
    "\n",
    "# Ubah string pixel menjadi array 1D\n",
    "pixel_values = np.array(pixels.split(), dtype=np.uint8)\n",
    "\n",
    "# Ubah array 1D menjadi array 2D\n",
    "image = pixel_values.reshape(48, 48)\n",
    "\n",
    "# Tampilkan gambar\n",
    "plt.imshow(image, cmap='gray')\n",
    "plt.title(f\"Emotion: {df['emotion'][row_index]}\")\n",
    "plt.axis('off')  # Hilangkan sumbu\n",
    "plt.show()"
   ]
  },
  {
   "cell_type": "markdown",
   "metadata": {},
   "source": [
    "- After resized 100x100:"
   ]
  },
  {
   "cell_type": "code",
   "execution_count": 16,
   "metadata": {},
   "outputs": [
    {
     "data": {
      "image/png": "[encoded data removed]",
      "text/plain": [
       "<Figure size 640x480 with 1 Axes>"
      ]
     },
     "metadata": {},
     "output_type": "display_data"
    }
   ],
   "source": [
    "# Ambil data pixels dari baris yang diinginkan\n",
    "row_index = 0  # indeks baris yang diinginkan\n",
    "pixels = df_resized['resized_pixels'][row_index]\n",
    "\n",
    "# Ubah string pixel menjadi array 1D\n",
    "pixel_values = np.array(pixels.split(), dtype=np.uint8)\n",
    "\n",
    "# Ubah array 1D menjadi array 2D (100x100)\n",
    "image = pixel_values.reshape(100, 100)\n",
    "\n",
    "# Tampilkan gambar\n",
    "plt.imshow(image, cmap='gray')\n",
    "plt.title(f\"Emotion: {df_resized['emotion'][row_index]}\")\n",
    "plt.axis('off')  # Hilangkan sumbu\n",
    "plt.show()"
   ]
  },
  {
   "cell_type": "markdown",
   "metadata": {},
   "source": [
    "Menerapkan minimum data:"
   ]
  },
  {
   "cell_type": "code",
   "execution_count": 17,
   "metadata": {},
   "outputs": [
    {
     "name": "stdout",
     "output_type": "stream",
     "text": [
      "emotion\n",
      "0    3995\n",
      "1     436\n",
      "2    4097\n",
      "3    7215\n",
      "4    4830\n",
      "5    3171\n",
      "6    4965\n",
      "dtype: int64\n"
     ]
    }
   ],
   "source": [
    "# Menghitung total data per label pada kolom 'emotion'\n",
    "label_counts = df_train.groupby('emotion').size()\n",
    "\n",
    "# Menampilkan hasil\n",
    "print(label_counts)"
   ]
  },
  {
   "cell_type": "code",
   "execution_count": 18,
   "metadata": {},
   "outputs": [
    {
     "name": "stdout",
     "output_type": "stream",
     "text": [
      "emotion\n",
      "0    436\n",
      "1    436\n",
      "2    436\n",
      "3    436\n",
      "4    436\n",
      "5    436\n",
      "6    436\n",
      "dtype: int64\n"
     ]
    }
   ],
   "source": [
    "# Tentukan jumlah data yang diinginkan per label\n",
    "desired_count = 436\n",
    "\n",
    "# List untuk menyimpan DataFrame setiap label setelah disampling\n",
    "balanced_dataframes = []\n",
    "\n",
    "# Loop untuk setiap label di kolom 'emotion'\n",
    "for label, group in df_train.groupby('emotion'):\n",
    "    if len(group) > desired_count:\n",
    "        # Jika jumlah data lebih dari desired_count, lakukan undersampling\n",
    "        sampled_group = group.sample(n=desired_count, random_state=42)\n",
    "    else:\n",
    "        # Jika jumlah data kurang atau sama dengan desired_count, gunakan semua data\n",
    "        sampled_group = group\n",
    "    \n",
    "    # Tambahkan data yang telah disampling ke dalam list\n",
    "    balanced_dataframes.append(sampled_group)\n",
    "\n",
    "# Gabungkan semua data yang telah diundersampling menjadi satu DataFrame\n",
    "balanced_df_train = pd.concat(balanced_dataframes)\n",
    "\n",
    "# Menampilkan total data per label setelah undersampling\n",
    "print(balanced_df_train.groupby('emotion').size())"
   ]
  },
  {
   "cell_type": "code",
   "execution_count": 19,
   "metadata": {},
   "outputs": [],
   "source": [
    "# Reset indeks setelah melakukan sampling atau filtering\n",
    "balanced_df_train = balanced_df_train.reset_index(drop=True)"
   ]
  },
  {
   "cell_type": "code",
   "execution_count": 20,
   "metadata": {},
   "outputs": [
    {
     "data": {
      "text/html": [
       "<div>\n",
       "<style scoped>\n",
       "    .dataframe tbody tr th:only-of-type {\n",
       "        vertical-align: middle;\n",
       "    }\n",
       "\n",
       "    .dataframe tbody tr th {\n",
       "        vertical-align: top;\n",
       "    }\n",
       "\n",
       "    .dataframe thead th {\n",
       "        text-align: right;\n",
       "    }\n",
       "</style>\n",
       "<table border=\"1\" class=\"dataframe\">\n",
       "  <thead>\n",
       "    <tr style=\"text-align: right;\">\n",
       "      <th></th>\n",
       "      <th>emotion</th>\n",
       "      <th>usage</th>\n",
       "      <th>resized_pixels</th>\n",
       "    </tr>\n",
       "  </thead>\n",
       "  <tbody>\n",
       "    <tr>\n",
       "      <th>0</th>\n",
       "      <td>0</td>\n",
       "      <td>Training</td>\n",
       "      <td>136 129 115 100 89 79 67 53 37 26 25 29 33 35 ...</td>\n",
       "    </tr>\n",
       "    <tr>\n",
       "      <th>1</th>\n",
       "      <td>0</td>\n",
       "      <td>Training</td>\n",
       "      <td>25 23 18 17 22 29 34 34 31 26 25 24 22 24 32 4...</td>\n",
       "    </tr>\n",
       "    <tr>\n",
       "      <th>2</th>\n",
       "      <td>0</td>\n",
       "      <td>Training</td>\n",
       "      <td>229 226 222 216 214 212 212 211 213 215 218 22...</td>\n",
       "    </tr>\n",
       "    <tr>\n",
       "      <th>3</th>\n",
       "      <td>0</td>\n",
       "      <td>Training</td>\n",
       "      <td>220 223 225 229 224 189 127 83 76 88 92 90 89 ...</td>\n",
       "    </tr>\n",
       "    <tr>\n",
       "      <th>4</th>\n",
       "      <td>0</td>\n",
       "      <td>Training</td>\n",
       "      <td>71 79 93 108 108 92 64 42 41 52 63 71 76 78 83...</td>\n",
       "    </tr>\n",
       "  </tbody>\n",
       "</table>\n",
       "</div>"
      ],
      "text/plain": [
       "  emotion     usage                                     resized_pixels\n",
       "0       0  Training  136 129 115 100 89 79 67 53 37 26 25 29 33 35 ...\n",
       "1       0  Training  25 23 18 17 22 29 34 34 31 26 25 24 22 24 32 4...\n",
       "2       0  Training  229 226 222 216 214 212 212 211 213 215 218 22...\n",
       "3       0  Training  220 223 225 229 224 189 127 83 76 88 92 90 89 ...\n",
       "4       0  Training  71 79 93 108 108 92 64 42 41 52 63 71 76 78 83..."
      ]
     },
     "execution_count": 20,
     "metadata": {},
     "output_type": "execute_result"
    }
   ],
   "source": [
    "balanced_df_train.head()"
   ]
  },
  {
   "cell_type": "code",
   "execution_count": 21,
   "metadata": {},
   "outputs": [
    {
     "data": {
      "text/plain": [
       "(3052, 3)"
      ]
     },
     "execution_count": 21,
     "metadata": {},
     "output_type": "execute_result"
    }
   ],
   "source": [
    "balanced_df_train.shape"
   ]
  },
  {
   "cell_type": "markdown",
   "metadata": {},
   "source": [
    "## Augmantation"
   ]
  },
  {
   "cell_type": "markdown",
   "metadata": {},
   "source": [
    "- Define augmentation function:"
   ]
  },
  {
   "cell_type": "code",
   "execution_count": 22,
   "metadata": {},
   "outputs": [],
   "source": [
    "# Fungsi augmentasi\n",
    "def augment_image(image):\n",
    "    # Pipeline augmentasi menggunakan albumentations\n",
    "    transform = A.Compose([\n",
    "        A.RandomCrop(width=90, height=90),         # Random crop ukuran 80x80 dari gambar asli (100x100)\n",
    "        A.HorizontalFlip(p=0.5),                   # Membalik gambar secara horizontal dengan probabilitas 50%\n",
    "        A.Rotate(limit=20, p=0.5),                 # Memutar gambar dengan sudut hingga 20 derajat\n",
    "        A.ColorJitter(brightness=0.2, contrast=0.2, saturation=0.2, hue=0.1, p=0.5),  # Jitter warna\n",
    "        A.CoarseDropout(max_holes=4, max_height=5, max_width=5, p=0.5),  # Random masking\n",
    "        A.Resize(100, 100),                        # Resize kembali menjadi ukuran 100x100\n",
    "        # A.Normalize(mean=(0.5,), std=(0.5,)),      # Dibuatr normalize 0,1 agar bentuknya kembali semula kalo ini dihilangkan outputnya pecah, gak jadi ini setelah augmentasi\n",
    "        ToTensorV2()                               # Ubah gambar menjadi tensor PyTorch\n",
    "    ])\n",
    "    \n",
    "    augmented = transform(image=image)\n",
    "    return augmented['image']"
   ]
  },
  {
   "cell_type": "markdown",
   "metadata": {},
   "source": [
    "- Processing the augmentation:"
   ]
  },
  {
   "cell_type": "code",
   "execution_count": 23,
   "metadata": {},
   "outputs": [
    {
     "name": "stderr",
     "output_type": "stream",
     "text": [
      "Augmenting images: 100%|██████████| 3052/3052 [00:16<00:00, 185.75it/s]\n"
     ]
    }
   ],
   "source": [
    "# List untuk menyimpan hasil augmentasi\n",
    "augmented_images = []\n",
    "augmented_emotions = []\n",
    "\n",
    "# Proses augmentasi untuk setiap gambar di dataframe asli\n",
    "for i in tqdm(range(len(balanced_df_train)), desc=\"Augmenting images\"):\n",
    "    # Ambil gambar dari dataframe dan ubah menjadi array 2D\n",
    "    pixels = np.array(balanced_df_train['resized_pixels'][i].split(), dtype=np.uint8).reshape(100, 100)\n",
    "    \n",
    "    # Augmentasi gambar\n",
    "    augmented_image = augment_image(pixels)\n",
    "    \n",
    "    # Ubah tensor augmented_image kembali ke numpy array, lalu ubah jadi string lagi untuk disimpan di dataframe\n",
    "    augmented_image_np = augmented_image.permute(1, 2, 0).numpy().flatten().tolist()  # Ubah ke list 1D\n",
    "    augmented_image_str = ' '.join(map(str, augmented_image_np))  # Ubah list jadi string\n",
    "    \n",
    "    # Simpan gambar yang sudah di-augmentasi dan emosi ke list\n",
    "    augmented_images.append(augmented_image_str)\n",
    "    augmented_emotions.append(balanced_df_train['emotion'][i])\n",
    "\n",
    "# Masukkan hasil augmentasi ke dataframe baru\n",
    "augmented_df_train = pd.DataFrame({\n",
    "    'emotion': augmented_emotions,\n",
    "    'resized_pixels': augmented_images\n",
    "})"
   ]
  },
  {
   "cell_type": "code",
   "execution_count": 27,
   "metadata": {},
   "outputs": [
    {
     "data": {
      "text/html": [
       "<div>\n",
       "<style scoped>\n",
       "    .dataframe tbody tr th:only-of-type {\n",
       "        vertical-align: middle;\n",
       "    }\n",
       "\n",
       "    .dataframe tbody tr th {\n",
       "        vertical-align: top;\n",
       "    }\n",
       "\n",
       "    .dataframe thead th {\n",
       "        text-align: right;\n",
       "    }\n",
       "</style>\n",
       "<table border=\"1\" class=\"dataframe\">\n",
       "  <thead>\n",
       "    <tr style=\"text-align: right;\">\n",
       "      <th></th>\n",
       "      <th>emotion</th>\n",
       "      <th>resized_pixels</th>\n",
       "    </tr>\n",
       "  </thead>\n",
       "  <tbody>\n",
       "    <tr>\n",
       "      <th>0</th>\n",
       "      <td>0</td>\n",
       "      <td>37 39 38 37 37 37 33 25 17 15 17 18 18 18 17 1...</td>\n",
       "    </tr>\n",
       "    <tr>\n",
       "      <th>1</th>\n",
       "      <td>0</td>\n",
       "      <td>32 32 31 29 29 33 41 46 46 48 56 64 70 73 74 7...</td>\n",
       "    </tr>\n",
       "    <tr>\n",
       "      <th>2</th>\n",
       "      <td>0</td>\n",
       "      <td>10 6 1 0 0 0 6 20 28 28 31 45 67 93 117 132 13...</td>\n",
       "    </tr>\n",
       "    <tr>\n",
       "      <th>3</th>\n",
       "      <td>0</td>\n",
       "      <td>168 169 169 168 168 168 169 171 172 173 172 17...</td>\n",
       "    </tr>\n",
       "    <tr>\n",
       "      <th>4</th>\n",
       "      <td>0</td>\n",
       "      <td>114 111 103 92 79 68 59 51 46 43 38 33 31 37 5...</td>\n",
       "    </tr>\n",
       "    <tr>\n",
       "      <th>...</th>\n",
       "      <td>...</td>\n",
       "      <td>...</td>\n",
       "    </tr>\n",
       "    <tr>\n",
       "      <th>3047</th>\n",
       "      <td>6</td>\n",
       "      <td>133 136 139 141 141 138 136 140 152 166 169 16...</td>\n",
       "    </tr>\n",
       "    <tr>\n",
       "      <th>3048</th>\n",
       "      <td>6</td>\n",
       "      <td>20 21 21 22 23 26 29 33 38 42 49 58 67 76 82 8...</td>\n",
       "    </tr>\n",
       "    <tr>\n",
       "      <th>3049</th>\n",
       "      <td>6</td>\n",
       "      <td>69 73 80 92 108 125 143 157 168 178 187 196 20...</td>\n",
       "    </tr>\n",
       "    <tr>\n",
       "      <th>3050</th>\n",
       "      <td>6</td>\n",
       "      <td>165 178 185 189 190 192 194 197 199 202 202 20...</td>\n",
       "    </tr>\n",
       "    <tr>\n",
       "      <th>3051</th>\n",
       "      <td>6</td>\n",
       "      <td>106 105 102 99 100 104 112 119 124 127 127 126...</td>\n",
       "    </tr>\n",
       "  </tbody>\n",
       "</table>\n",
       "<p>3052 rows × 2 columns</p>\n",
       "</div>"
      ],
      "text/plain": [
       "      emotion                                     resized_pixels\n",
       "0           0  37 39 38 37 37 37 33 25 17 15 17 18 18 18 17 1...\n",
       "1           0  32 32 31 29 29 33 41 46 46 48 56 64 70 73 74 7...\n",
       "2           0  10 6 1 0 0 0 6 20 28 28 31 45 67 93 117 132 13...\n",
       "3           0  168 169 169 168 168 168 169 171 172 173 172 17...\n",
       "4           0  114 111 103 92 79 68 59 51 46 43 38 33 31 37 5...\n",
       "...       ...                                                ...\n",
       "3047        6  133 136 139 141 141 138 136 140 152 166 169 16...\n",
       "3048        6  20 21 21 22 23 26 29 33 38 42 49 58 67 76 82 8...\n",
       "3049        6  69 73 80 92 108 125 143 157 168 178 187 196 20...\n",
       "3050        6  165 178 185 189 190 192 194 197 199 202 202 20...\n",
       "3051        6  106 105 102 99 100 104 112 119 124 127 127 126...\n",
       "\n",
       "[3052 rows x 2 columns]"
      ]
     },
     "execution_count": 27,
     "metadata": {},
     "output_type": "execute_result"
    }
   ],
   "source": [
    "augmented_df_train"
   ]
  },
  {
   "cell_type": "markdown",
   "metadata": {},
   "source": [
    "- Visualize image after augmentation:"
   ]
  },
  {
   "cell_type": "code",
   "execution_count": 28,
   "metadata": {},
   "outputs": [
    {
     "data": {
      "image/png": "[encoded data removed]",
      "text/plain": [
       "<Figure size 640x480 with 1 Axes>"
      ]
     },
     "metadata": {},
     "output_type": "display_data"
    }
   ],
   "source": [
    "# Ambil data pixels dari baris yang diinginkan\n",
    "row_index = 0  # Ganti dengan indeks baris yang diinginkan\n",
    "pixels = augmented_df_train['resized_pixels'][row_index]\n",
    "\n",
    "# Ubah string pixel menjadi array 1D (float)\n",
    "pixel_values = np.array(pixels.split(), dtype=np.float32)\n",
    "\n",
    "# Denormalisasi dari rentang [-1, 1] ke [0, 255]\n",
    "# pixel_values = (pixel_values * 0.5 + 0.5) * 255  # Skala ulang ke [0, 255]\n",
    "\n",
    "# Ubah array 1D menjadi array 2D (100x100)\n",
    "image = pixel_values.reshape(100, 100)\n",
    "\n",
    "# Ubah ke tipe data uint8 agar bisa ditampilkan sebagai gambar\n",
    "image = image.astype(np.uint8)\n",
    "\n",
    "# Tampilkan gambar\n",
    "plt.imshow(image, cmap='gray')\n",
    "plt.title(f\"Emotion: {augmented_df_train['emotion'][row_index]}\")\n",
    "plt.axis('off')  # Hilangkan sumbu\n",
    "plt.show()\n"
   ]
  },
  {
   "cell_type": "markdown",
   "metadata": {},
   "source": [
    "- Append the new augmentation into original dataframe before the augmentation:"
   ]
  },
  {
   "cell_type": "code",
   "execution_count": 32,
   "metadata": {},
   "outputs": [
    {
     "name": "stdout",
     "output_type": "stream",
     "text": [
      "Jumlah data setelah augmentasi: 6104\n",
      "  emotion     usage                                     resized_pixels\n",
      "0       0  Training  136 129 115 100 89 79 67 53 37 26 25 29 33 35 ...\n",
      "1       0  Training  25 23 18 17 22 29 34 34 31 26 25 24 22 24 32 4...\n",
      "2       0  Training  229 226 222 216 214 212 212 211 213 215 218 22...\n",
      "3       0  Training  220 223 225 229 224 189 127 83 76 88 92 90 89 ...\n",
      "4       0  Training  71 79 93 108 108 92 64 42 41 52 63 71 76 78 83...\n"
     ]
    }
   ],
   "source": [
    "# Gabungkan dataframe asli dengan dataframe augmented\n",
    "combined_df_train = pd.concat([balanced_df_train, augmented_df_train], ignore_index=True)\n",
    "\n",
    "# Tampilkan informasi jumlah data\n",
    "print(f\"Jumlah data setelah augmentasi: {len(combined_df_train)}\")\n",
    "\n",
    "# Tampilkan contoh baris dari dataframe gabungan\n",
    "print(combined_df_train.head())"
   ]
  },
  {
   "cell_type": "markdown",
   "metadata": {},
   "source": [
    "- Define function normalize pixel to [0,1] dividing by 255:"
   ]
  },
  {
   "cell_type": "code",
   "execution_count": 33,
   "metadata": {},
   "outputs": [],
   "source": [
    "# Fungsi untuk normalisasi nilai piksel\n",
    "def normalize_pixels(pixels):\n",
    "    # Ubah string pixel menjadi array float\n",
    "    pixel_values = np.array(pixels.split(), dtype=np.float32)\n",
    "    \n",
    "    # Bagi setiap nilai piksel dengan 255 untuk menormalisasi ke [0,1]\n",
    "    normalized_pixel_values = pixel_values / 255.0\n",
    "    \n",
    "    # Ubah kembali array menjadi string agar sesuai dengan format dataframe\n",
    "    return ' '.join(map(str, normalized_pixel_values))"
   ]
  },
  {
   "cell_type": "markdown",
   "metadata": {},
   "source": [
    "- Proceeding the normalize to all row:"
   ]
  },
  {
   "cell_type": "code",
   "execution_count": 34,
   "metadata": {},
   "outputs": [
    {
     "name": "stderr",
     "output_type": "stream",
     "text": [
      "100%|██████████| 6104/6104 [00:34<00:00, 175.71it/s]\n"
     ]
    }
   ],
   "source": [
    "# Terapkan normalisasi dengan progress bar\n",
    "tqdm.pandas()  # Untuk menambahkan kemampuan progress bar pada pandas\n",
    "\n",
    "# Normalisasi pada kolom 'resized_pixels' dengan progress bar\n",
    "combined_df_train['resized_pixels'] = combined_df_train['resized_pixels'].progress_apply(normalize_pixels)"
   ]
  },
  {
   "cell_type": "code",
   "execution_count": 37,
   "metadata": {},
   "outputs": [
    {
     "name": "stderr",
     "output_type": "stream",
     "text": [
      "100%|██████████| 3589/3589 [00:21<00:00, 168.68it/s]\n"
     ]
    }
   ],
   "source": [
    "# Terapkan normalisasi dengan progress bar\n",
    "tqdm.pandas()  # Untuk menambahkan kemampuan progress bar pada pandas\n",
    "\n",
    "# Normalisasi pada kolom 'resized_pixels' dengan progress bar\n",
    "# Menggunakan .loc[] untuk mengubah kolom secara aman\n",
    "df_public_test.loc[:, 'resized_pixels'] = df_public_test['resized_pixels'].progress_apply(normalize_pixels)"
   ]
  },
  {
   "cell_type": "markdown",
   "metadata": {},
   "source": [
    "- Visualize datatable:"
   ]
  },
  {
   "cell_type": "code",
   "execution_count": 39,
   "metadata": {},
   "outputs": [
    {
     "data": {
      "text/html": [
       "<div>\n",
       "<style scoped>\n",
       "    .dataframe tbody tr th:only-of-type {\n",
       "        vertical-align: middle;\n",
       "    }\n",
       "\n",
       "    .dataframe tbody tr th {\n",
       "        vertical-align: top;\n",
       "    }\n",
       "\n",
       "    .dataframe thead th {\n",
       "        text-align: right;\n",
       "    }\n",
       "</style>\n",
       "<table border=\"1\" class=\"dataframe\">\n",
       "  <thead>\n",
       "    <tr style=\"text-align: right;\">\n",
       "      <th></th>\n",
       "      <th>emotion</th>\n",
       "      <th>usage</th>\n",
       "      <th>resized_pixels</th>\n",
       "    </tr>\n",
       "  </thead>\n",
       "  <tbody>\n",
       "    <tr>\n",
       "      <th>0</th>\n",
       "      <td>0</td>\n",
       "      <td>Training</td>\n",
       "      <td>0.53333336 0.5058824 0.4509804 0.39215687 0.34...</td>\n",
       "    </tr>\n",
       "    <tr>\n",
       "      <th>1</th>\n",
       "      <td>0</td>\n",
       "      <td>Training</td>\n",
       "      <td>0.09803922 0.09019608 0.07058824 0.06666667 0....</td>\n",
       "    </tr>\n",
       "    <tr>\n",
       "      <th>2</th>\n",
       "      <td>0</td>\n",
       "      <td>Training</td>\n",
       "      <td>0.8980392 0.8862745 0.87058824 0.84705883 0.83...</td>\n",
       "    </tr>\n",
       "    <tr>\n",
       "      <th>3</th>\n",
       "      <td>0</td>\n",
       "      <td>Training</td>\n",
       "      <td>0.8627451 0.8745098 0.88235295 0.8980392 0.878...</td>\n",
       "    </tr>\n",
       "    <tr>\n",
       "      <th>4</th>\n",
       "      <td>0</td>\n",
       "      <td>Training</td>\n",
       "      <td>0.2784314 0.30980393 0.3647059 0.42352942 0.42...</td>\n",
       "    </tr>\n",
       "  </tbody>\n",
       "</table>\n",
       "</div>"
      ],
      "text/plain": [
       "  emotion     usage                                     resized_pixels\n",
       "0       0  Training  0.53333336 0.5058824 0.4509804 0.39215687 0.34...\n",
       "1       0  Training  0.09803922 0.09019608 0.07058824 0.06666667 0....\n",
       "2       0  Training  0.8980392 0.8862745 0.87058824 0.84705883 0.83...\n",
       "3       0  Training  0.8627451 0.8745098 0.88235295 0.8980392 0.878...\n",
       "4       0  Training  0.2784314 0.30980393 0.3647059 0.42352942 0.42..."
      ]
     },
     "execution_count": 39,
     "metadata": {},
     "output_type": "execute_result"
    }
   ],
   "source": [
    "# Tampilan hasil original + augmentasi dataframe setelah normalisasi\n",
    "combined_df_train.head()"
   ]
  },
  {
   "cell_type": "code",
   "execution_count": 40,
   "metadata": {},
   "outputs": [
    {
     "data": {
      "text/html": [
       "<div>\n",
       "<style scoped>\n",
       "    .dataframe tbody tr th:only-of-type {\n",
       "        vertical-align: middle;\n",
       "    }\n",
       "\n",
       "    .dataframe tbody tr th {\n",
       "        vertical-align: top;\n",
       "    }\n",
       "\n",
       "    .dataframe thead th {\n",
       "        text-align: right;\n",
       "    }\n",
       "</style>\n",
       "<table border=\"1\" class=\"dataframe\">\n",
       "  <thead>\n",
       "    <tr style=\"text-align: right;\">\n",
       "      <th></th>\n",
       "      <th>emotion</th>\n",
       "      <th>usage</th>\n",
       "      <th>resized_pixels</th>\n",
       "    </tr>\n",
       "  </thead>\n",
       "  <tbody>\n",
       "    <tr>\n",
       "      <th>28709</th>\n",
       "      <td>0</td>\n",
       "      <td>PublicTest</td>\n",
       "      <td>0.99607843 0.99607843 0.99607843 0.99607843 0....</td>\n",
       "    </tr>\n",
       "    <tr>\n",
       "      <th>28710</th>\n",
       "      <td>1</td>\n",
       "      <td>PublicTest</td>\n",
       "      <td>0.6039216 0.6313726 0.68235296 0.7411765 0.768...</td>\n",
       "    </tr>\n",
       "    <tr>\n",
       "      <th>28711</th>\n",
       "      <td>4</td>\n",
       "      <td>PublicTest</td>\n",
       "      <td>0.23529412 0.3137255 0.43137255 0.45490196 0.3...</td>\n",
       "    </tr>\n",
       "    <tr>\n",
       "      <th>28712</th>\n",
       "      <td>6</td>\n",
       "      <td>PublicTest</td>\n",
       "      <td>0.83137256 0.8 0.75686276 0.80784315 0.9215686...</td>\n",
       "    </tr>\n",
       "    <tr>\n",
       "      <th>28713</th>\n",
       "      <td>3</td>\n",
       "      <td>PublicTest</td>\n",
       "      <td>0.3372549 0.33333334 0.32156864 0.30980393 0.3...</td>\n",
       "    </tr>\n",
       "  </tbody>\n",
       "</table>\n",
       "</div>"
      ],
      "text/plain": [
       "      emotion       usage                                     resized_pixels\n",
       "28709       0  PublicTest  0.99607843 0.99607843 0.99607843 0.99607843 0....\n",
       "28710       1  PublicTest  0.6039216 0.6313726 0.68235296 0.7411765 0.768...\n",
       "28711       4  PublicTest  0.23529412 0.3137255 0.43137255 0.45490196 0.3...\n",
       "28712       6  PublicTest  0.83137256 0.8 0.75686276 0.80784315 0.9215686...\n",
       "28713       3  PublicTest  0.3372549 0.33333334 0.32156864 0.30980393 0.3..."
      ]
     },
     "execution_count": 40,
     "metadata": {},
     "output_type": "execute_result"
    }
   ],
   "source": [
    "# Tampilan hasil df_public_test dataframe setelah normalisasi\n",
    "df_public_test.head()"
   ]
  },
  {
   "cell_type": "markdown",
   "metadata": {},
   "source": [
    "Kolom emotion: Jika ini adalah label kelas, awalnya tipe object maka bisa mengubahnya menjadi tipe data numerik menggunakan LabelEncoder dari scikit-learn:"
   ]
  },
  {
   "cell_type": "code",
   "execution_count": 41,
   "metadata": {},
   "outputs": [],
   "source": [
    "from sklearn.preprocessing import LabelEncoder\n",
    "\n",
    "le = LabelEncoder()\n",
    "combined_df_train['emotion'] = le.fit_transform(combined_df_train['emotion'])"
   ]
  },
  {
   "cell_type": "markdown",
   "metadata": {},
   "source": [
    "Kolom resized_pixels: Jika kolom ini berisi string yang merepresentasikan array alias saat ini tipe object, maka perlu mengubahnya menjadi array numpy:"
   ]
  },
  {
   "cell_type": "code",
   "execution_count": 42,
   "metadata": {},
   "outputs": [],
   "source": [
    "# Konversi string piksel menjadi array NumPy data train\n",
    "combined_df_train['resized_pixels'] = combined_df_train['resized_pixels'].apply(\n",
    "    lambda x: np.fromstring(x, sep=' ').astype(np.float32).reshape(100, 100)\n",
    ")"
   ]
  },
  {
   "cell_type": "code",
   "execution_count": 43,
   "metadata": {},
   "outputs": [
    {
     "name": "stdout",
     "output_type": "stream",
     "text": [
      "<class 'pandas.core.frame.DataFrame'>\n",
      "RangeIndex: 6104 entries, 0 to 6103\n",
      "Data columns (total 3 columns):\n",
      " #   Column          Non-Null Count  Dtype \n",
      "---  ------          --------------  ----- \n",
      " 0   emotion         6104 non-null   int64 \n",
      " 1   usage           3052 non-null   object\n",
      " 2   resized_pixels  6104 non-null   object\n",
      "dtypes: int64(1), object(2)\n",
      "memory usage: 143.2+ KB\n"
     ]
    }
   ],
   "source": [
    "combined_df_train.info()"
   ]
  },
  {
   "cell_type": "code",
   "execution_count": 44,
   "metadata": {},
   "outputs": [
    {
     "name": "stderr",
     "output_type": "stream",
     "text": [
      "C:\\Users\\ASUS\\AppData\\Local\\Temp\\ipykernel_18020\\41601893.py:2: SettingWithCopyWarning: \n",
      "A value is trying to be set on a copy of a slice from a DataFrame.\n",
      "Try using .loc[row_indexer,col_indexer] = value instead\n",
      "\n",
      "See the caveats in the documentation: https://pandas.pydata.org/pandas-docs/stable/user_guide/indexing.html#returning-a-view-versus-a-copy\n",
      "  df_public_test['resized_pixels'] = df_public_test['resized_pixels'].apply(\n"
     ]
    }
   ],
   "source": [
    "# Konversi string piksel menjadi array NumPy data test\n",
    "df_public_test.loc[:, 'resized_pixels'] = df_public_test['resized_pixels'].apply(\n",
    "    lambda x: np.fromstring(x, sep=' ').astype(np.float32).reshape(100, 100)\n",
    ")"
   ]
  },
  {
   "cell_type": "code",
   "execution_count": 45,
   "metadata": {},
   "outputs": [
    {
     "name": "stdout",
     "output_type": "stream",
     "text": [
      "True\n",
      "True\n"
     ]
    }
   ],
   "source": [
    "# Pastikan semua entri memiliki ukuran 100x100\n",
    "print(combined_df_train['resized_pixels'].apply(lambda x: x.shape == (100, 100)).all())\n",
    "print(df_public_test['resized_pixels'].apply(lambda x: x.shape == (100, 100)).all())"
   ]
  },
  {
   "cell_type": "code",
   "execution_count": 49,
   "metadata": {},
   "outputs": [
    {
     "data": {
      "text/html": [
       "<div>\n",
       "<style scoped>\n",
       "    .dataframe tbody tr th:only-of-type {\n",
       "        vertical-align: middle;\n",
       "    }\n",
       "\n",
       "    .dataframe tbody tr th {\n",
       "        vertical-align: top;\n",
       "    }\n",
       "\n",
       "    .dataframe thead th {\n",
       "        text-align: right;\n",
       "    }\n",
       "</style>\n",
       "<table border=\"1\" class=\"dataframe\">\n",
       "  <thead>\n",
       "    <tr style=\"text-align: right;\">\n",
       "      <th></th>\n",
       "      <th>emotion</th>\n",
       "      <th>usage</th>\n",
       "      <th>resized_pixels</th>\n",
       "    </tr>\n",
       "  </thead>\n",
       "  <tbody>\n",
       "    <tr>\n",
       "      <th>0</th>\n",
       "      <td>0</td>\n",
       "      <td>Training</td>\n",
       "      <td>[[0.53333336, 0.5058824, 0.4509804, 0.39215687...</td>\n",
       "    </tr>\n",
       "    <tr>\n",
       "      <th>1</th>\n",
       "      <td>0</td>\n",
       "      <td>Training</td>\n",
       "      <td>[[0.09803922, 0.09019608, 0.07058824, 0.066666...</td>\n",
       "    </tr>\n",
       "    <tr>\n",
       "      <th>2</th>\n",
       "      <td>0</td>\n",
       "      <td>Training</td>\n",
       "      <td>[[0.8980392, 0.8862745, 0.87058824, 0.84705883...</td>\n",
       "    </tr>\n",
       "    <tr>\n",
       "      <th>3</th>\n",
       "      <td>0</td>\n",
       "      <td>Training</td>\n",
       "      <td>[[0.8627451, 0.8745098, 0.88235295, 0.8980392,...</td>\n",
       "    </tr>\n",
       "    <tr>\n",
       "      <th>4</th>\n",
       "      <td>0</td>\n",
       "      <td>Training</td>\n",
       "      <td>[[0.2784314, 0.30980393, 0.3647059, 0.42352942...</td>\n",
       "    </tr>\n",
       "  </tbody>\n",
       "</table>\n",
       "</div>"
      ],
      "text/plain": [
       "   emotion     usage                                     resized_pixels\n",
       "0        0  Training  [[0.53333336, 0.5058824, 0.4509804, 0.39215687...\n",
       "1        0  Training  [[0.09803922, 0.09019608, 0.07058824, 0.066666...\n",
       "2        0  Training  [[0.8980392, 0.8862745, 0.87058824, 0.84705883...\n",
       "3        0  Training  [[0.8627451, 0.8745098, 0.88235295, 0.8980392,...\n",
       "4        0  Training  [[0.2784314, 0.30980393, 0.3647059, 0.42352942..."
      ]
     },
     "execution_count": 49,
     "metadata": {},
     "output_type": "execute_result"
    }
   ],
   "source": [
    "# Tampilkan informasi dataframe setelah normalisasi\n",
    "combined_df_train.head()"
   ]
  },
  {
   "cell_type": "code",
   "execution_count": 48,
   "metadata": {},
   "outputs": [
    {
     "data": {
      "text/html": [
       "<div>\n",
       "<style scoped>\n",
       "    .dataframe tbody tr th:only-of-type {\n",
       "        vertical-align: middle;\n",
       "    }\n",
       "\n",
       "    .dataframe tbody tr th {\n",
       "        vertical-align: top;\n",
       "    }\n",
       "\n",
       "    .dataframe thead th {\n",
       "        text-align: right;\n",
       "    }\n",
       "</style>\n",
       "<table border=\"1\" class=\"dataframe\">\n",
       "  <thead>\n",
       "    <tr style=\"text-align: right;\">\n",
       "      <th></th>\n",
       "      <th>emotion</th>\n",
       "      <th>usage</th>\n",
       "      <th>resized_pixels</th>\n",
       "    </tr>\n",
       "  </thead>\n",
       "  <tbody>\n",
       "    <tr>\n",
       "      <th>28709</th>\n",
       "      <td>0</td>\n",
       "      <td>PublicTest</td>\n",
       "      <td>[[0.99607843, 0.99607843, 0.99607843, 0.996078...</td>\n",
       "    </tr>\n",
       "    <tr>\n",
       "      <th>28710</th>\n",
       "      <td>1</td>\n",
       "      <td>PublicTest</td>\n",
       "      <td>[[0.6039216, 0.6313726, 0.68235296, 0.7411765,...</td>\n",
       "    </tr>\n",
       "    <tr>\n",
       "      <th>28711</th>\n",
       "      <td>4</td>\n",
       "      <td>PublicTest</td>\n",
       "      <td>[[0.23529412, 0.3137255, 0.43137255, 0.4549019...</td>\n",
       "    </tr>\n",
       "    <tr>\n",
       "      <th>28712</th>\n",
       "      <td>6</td>\n",
       "      <td>PublicTest</td>\n",
       "      <td>[[0.83137256, 0.8, 0.75686276, 0.80784315, 0.9...</td>\n",
       "    </tr>\n",
       "    <tr>\n",
       "      <th>28713</th>\n",
       "      <td>3</td>\n",
       "      <td>PublicTest</td>\n",
       "      <td>[[0.3372549, 0.33333334, 0.32156864, 0.3098039...</td>\n",
       "    </tr>\n",
       "  </tbody>\n",
       "</table>\n",
       "</div>"
      ],
      "text/plain": [
       "      emotion       usage                                     resized_pixels\n",
       "28709       0  PublicTest  [[0.99607843, 0.99607843, 0.99607843, 0.996078...\n",
       "28710       1  PublicTest  [[0.6039216, 0.6313726, 0.68235296, 0.7411765,...\n",
       "28711       4  PublicTest  [[0.23529412, 0.3137255, 0.43137255, 0.4549019...\n",
       "28712       6  PublicTest  [[0.83137256, 0.8, 0.75686276, 0.80784315, 0.9...\n",
       "28713       3  PublicTest  [[0.3372549, 0.33333334, 0.32156864, 0.3098039..."
      ]
     },
     "execution_count": 48,
     "metadata": {},
     "output_type": "execute_result"
    }
   ],
   "source": [
    "# Tampilkan informasi dataframe setelah normalisasi\n",
    "df_public_test.head()"
   ]
  },
  {
   "cell_type": "markdown",
   "metadata": {},
   "source": [
    "## Mixup Augmentation"
   ]
  },
  {
   "cell_type": "markdown",
   "metadata": {},
   "source": [
    "- Define function Mixup image and labels:"
   ]
  },
  {
   "cell_type": "code",
   "execution_count": 19,
   "metadata": {},
   "outputs": [],
   "source": [
    "def mixup_images_labels(images, labels, alpha=0.2):\n",
    "    \"\"\"Menerapkan Mixup Augmentation pada dua gambar dan label.\n",
    "    \n",
    "    Args:\n",
    "        images (tensor): Tensor gambar-gambar dengan shape (batch_size, channels, height, width).\n",
    "        labels (tensor): Tensor one-hot encoded label dengan shape (batch_size, num_classes).\n",
    "        alpha (float): Parameter distribusi Beta untuk campuran.\n",
    "\n",
    "    Returns:\n",
    "        mixed_images: Gambar campuran.\n",
    "        mixed_labels: Label campuran.\n",
    "    \"\"\"\n",
    "    # Ambil nilai lambda dari distribusi Beta\n",
    "    lambda_val = np.random.beta(alpha, alpha)\n",
    "    \n",
    "    # Pilih dua indeks acak\n",
    "    index = torch.randperm(images.size(0))\n",
    "    \n",
    "    # Gabungkan dua gambar\n",
    "    mixed_images = lambda_val * images + (1 - lambda_val) * images[index, :]\n",
    "    \n",
    "    # Gabungkan label\n",
    "    mixed_labels = lambda_val * labels + (1 - lambda_val) * labels[index, :]\n",
    "    \n",
    "    return mixed_images, mixed_labels\n"
   ]
  },
  {
   "cell_type": "markdown",
   "metadata": {},
   "source": [
    "- Define function for data preparation before mixup: "
   ]
  },
  {
   "cell_type": "code",
   "execution_count": 20,
   "metadata": {},
   "outputs": [],
   "source": [
    "# Pastikan gambar dalam format tensor dan normalisasi ke [0, 1]\n",
    "def prepare_images_labels(df):\n",
    "    images = []\n",
    "    labels = []\n",
    "\n",
    "    for i in tqdm(range(len(df))):\n",
    "        # Ambil pixel dan konversi ke array numpy\n",
    "        pixels = np.array(df['resized_pixels'][i].split(), dtype=np.float32).reshape(100, 100) / 255.0\n",
    "        \n",
    "        # Tambahkan channel dimension untuk tensor (1 channel karena grayscale)\n",
    "        images.append(pixels[np.newaxis, :, :])\n",
    "        \n",
    "        # Ambil label (ekspresi) dan ubah menjadi one-hot encoding\n",
    "        label = df['emotion'][i]\n",
    "        one_hot_label = np.zeros(8)  # Misal 8 kelas ekspresi\n",
    "        one_hot_label[label] = 1\n",
    "        labels.append(one_hot_label)\n",
    "\n",
    "    # Ubah list ke tensor\n",
    "    images = torch.tensor(np.array(images), dtype=torch.float32)\n",
    "    labels = torch.tensor(np.array(labels), dtype=torch.float32)\n",
    "    \n",
    "    return images, labels"
   ]
  },
  {
   "cell_type": "code",
   "execution_count": null,
   "metadata": {},
   "outputs": [],
   "source": [
    "# Persiapkan gambar dan label dari combined_df\n",
    "images, labels = prepare_images_labels(combined_df)"
   ]
  },
  {
   "cell_type": "markdown",
   "metadata": {},
   "source": [
    "- Processing Mixup Augmentation:"
   ]
  },
  {
   "cell_type": "code",
   "execution_count": null,
   "metadata": {},
   "outputs": [],
   "source": [
    "# Batch size untuk Mixup Augmentation\n",
    "batch_size = 64  # Batch size 64\n",
    "\n",
    "# Acak gambar dan label untuk setiap batch\n",
    "for i in tqdm(range(0, len(images), batch_size)):\n",
    "    batch_images = images[i:i+batch_size]\n",
    "    batch_labels = labels[i:i+batch_size]\n",
    "    \n",
    "    # Terapkan Mixup Augmentation\n",
    "    mixed_images, mixed_labels = mixup_images_labels(batch_images, batch_labels, alpha=0.2)\n",
    "\n",
    "# (Selanjutnya, mixed_images dan mixed_labels dapat digunakan untuk training model)"
   ]
  },
  {
   "cell_type": "code",
   "execution_count": null,
   "metadata": {},
   "outputs": [],
   "source": [
    "mixed_images"
   ]
  },
  {
   "cell_type": "code",
   "execution_count": null,
   "metadata": {},
   "outputs": [],
   "source": [
    "mixed_labels"
   ]
  },
  {
   "cell_type": "markdown",
   "metadata": {},
   "source": [
    "- Visualize the result of mixup augmented:"
   ]
  },
  {
   "cell_type": "code",
   "execution_count": null,
   "metadata": {},
   "outputs": [],
   "source": [
    "mixed_image = mixed_images[0, 0]  # Ambil gambar pertama dari saluran pertama\n",
    "\n",
    "# Ubah tensor ke numpy array\n",
    "image = mixed_image.detach().numpy()  # Mengubah tensor menjadi numpy array\n",
    "\n",
    "# Denormalisasi jika perlu, misal dari rentang [-1, 1] ke [0, 255]\n",
    "image = (image * 0.5 + 0.5) * 255  # Skala ulang ke [0, 255]\n",
    "\n",
    "# Pastikan untuk mengubah tipe data menjadi uint8\n",
    "image = (image * 255).astype(np.uint8)\n",
    "\n",
    "# Tampilkan gambar\n",
    "plt.imshow(image, cmap='gray')\n",
    "plt.axis('off')  # Hilangkan sumbu\n",
    "plt.title(\"Mixed Image\")\n",
    "plt.show()\n"
   ]
  },
  {
   "cell_type": "markdown",
   "metadata": {},
   "source": [
    "# MODELING"
   ]
  },
  {
   "cell_type": "markdown",
   "metadata": {},
   "source": [
    "Konversi DataFrame ke Tensor:"
   ]
  },
  {
   "cell_type": "code",
   "execution_count": 50,
   "metadata": {},
   "outputs": [],
   "source": [
    "class EmotionDataset(Dataset):\n",
    "    def __init__(self, dataframe):\n",
    "        self.dataframe = dataframe\n",
    "\n",
    "    def __len__(self):\n",
    "        return len(self.dataframe)\n",
    "\n",
    "    def __getitem__(self, idx):\n",
    "        image = torch.tensor(self.dataframe['resized_pixels'].iloc[idx], dtype=torch.float32).view(1, 100, 100)  # Jika gambar 100x100\n",
    "        label = torch.tensor(self.dataframe['emotion'].iloc[idx], dtype=torch.long)\n",
    "        return image, label\n"
   ]
  },
  {
   "cell_type": "markdown",
   "metadata": {},
   "source": [
    "Membuat DataLoader:"
   ]
  },
  {
   "cell_type": "code",
   "execution_count": 51,
   "metadata": {},
   "outputs": [],
   "source": [
    "# Inisialisasi dataset\n",
    "train_dataset = EmotionDataset(combined_df_train)\n",
    "test_dataset = EmotionDataset(df_public_test)\n",
    "\n",
    "# Inisialisasi DataLoader\n",
    "train_loader = DataLoader(train_dataset, batch_size=64, shuffle=False)\n",
    "test_loader = DataLoader(test_dataset, batch_size=64, shuffle=False)"
   ]
  },
  {
   "cell_type": "markdown",
   "metadata": {},
   "source": [
    "LBP circular"
   ]
  },
  {
   "cell_type": "code",
   "execution_count": 53,
   "metadata": {},
   "outputs": [],
   "source": [
    "# Fungsi untuk mendapatkan intensitas piksel tetangga menggunakan interpolasi bilinear\n",
    "def get_pixel_value(img, center, x, y):\n",
    "    # Jika tetangga berada di dalam batas gambar\n",
    "    if x >= 0 and x < img.shape[0] and y >= 0 and y < img.shape[1]:\n",
    "        return img[int(x)][int(y)]\n",
    "    else:\n",
    "        return center\n",
    "\n",
    "# Fungsi untuk menghitung Circular LBP pada piksel (x, y)\n",
    "def lbp_calculated_pixel(img, x, y, radius, neighbors):\n",
    "    center = img[x][y]\n",
    "    values = []\n",
    "    \n",
    "    # Looping untuk mengambil nilai tetangga dalam pola melingkar\n",
    "    for n in range(neighbors):\n",
    "        theta = 2 * math.pi * n / neighbors  # Sudut\n",
    "        x_n = x + radius * math.sin(theta)   # Koordinat tetangga dalam pola melingkar\n",
    "        y_n = y + radius * math.cos(theta)\n",
    "        neighbor_value = get_pixel_value(img, center, x_n, y_n)\n",
    "        values.append(1 if neighbor_value >= center else 0)\n",
    "    \n",
    "    # Menghitung nilai biner LBP\n",
    "    lbp_value = 0\n",
    "    for i in range(len(values)):\n",
    "        lbp_value += values[i] * (1 << i)  # 1 << i adalah 2^i\n",
    "    \n",
    "    return lbp_value\n",
    "\n",
    "# Fungsi untuk menghitung Circular LBP untuk seluruh citra\n",
    "def calculate_lbp_image(img, radius=1, neighbors=8):\n",
    "    height, width = img.shape\n",
    "    lbp_image = np.zeros((height, width), dtype=np.uint32)  # Mengubah tipe data ke uint32 untuk mendukung nilai besar\n",
    "    \n",
    "    for i in range(radius, height - radius):\n",
    "        for j in range(radius, width - radius):\n",
    "            lbp_image[i, j] = lbp_calculated_pixel(img, i, j, radius, neighbors)\n",
    "    \n",
    "    # Normalisasi jika diperlukan (mengembalikan nilai dalam rentang 0-255)\n",
    "    lbp_image_normalized = np.uint8(lbp_image / lbp_image.max() * 255)\n",
    "    \n",
    "    return lbp_image_normalized\n",
    "\n",
    "# Fungsi untuk menampilkan hasil\n",
    "# def show_output(original_img, lbp_img):\n",
    "#     fig, axs = plt.subplots(1, 2, figsize=(10, 5))\n",
    "    \n",
    "#     # Gambar asli (grayscale)\n",
    "#     axs[0].imshow(original_img, cmap='gray')\n",
    "#     axs[0].set_title('Original Grayscale Image')\n",
    "    \n",
    "#     # Hasil LBP\n",
    "#     axs[1].imshow(lbp_img, cmap='gray')\n",
    "#     axs[1].set_title('Circular LBP Image')\n",
    "    \n",
    "#     plt.show()\n",
    "\n",
    "# Fungsi untuk ekstraksi fitur LBP dari batch gambar\n",
    "def lbp_feature_extraction_batch(images, radius=3, neighbors=24):\n",
    "    lbp_features = []\n",
    "    for img in images:\n",
    "        lbp_img = calculate_lbp_image(img.squeeze().cpu().numpy(), radius, neighbors)  # Ekstraksi LBP dari gambar\n",
    "        lbp_hist, _ = np.histogram(lbp_img.ravel(), bins=np.arange(0, neighbors + 3), range=(0, neighbors + 2))\n",
    "        lbp_hist = lbp_hist.astype(\"float\")\n",
    "        lbp_hist /= lbp_hist.sum()  # Normalisasi histogram\n",
    "        lbp_features.append(lbp_hist)\n",
    "\n",
    "    return np.array(lbp_features)\n",
    "    \n",
    "neighbors=24 # samakan dengan tabel dari referensi circular lbp ini yang optimal\n",
    "\n",
    "# Definisikan ukuran fitur LBP\n",
    "lbp_feature_size = neighbors + 2  # Misalnya 26 untuk 24 neighbors  \n",
    "\n",
    "# Main function\n",
    "# def lbp_feature_extraction(image):\n",
    "#     # Membaca citra\n",
    "#     # image_file = '../src/lenna.jpg'\n",
    "#     image_file = image\n",
    "#     img_bgr = cv2.imread(image_file)\n",
    "#     img_gray = cv2.cvtColor(img_bgr, cv2.COLOR_BGR2GRAY)\n",
    "    \n",
    "#     # Hitung LBP dengan radius 3 dan 24 tetangga\n",
    "#     lbp_img = calculate_lbp_image(img_gray, radius=3, neighbors=24)\n",
    "    \n",
    "#     # Tampilkan hasilnya\n",
    "#     show_output(img_gray, lbp_img)\n",
    "\n",
    "#     return lbp_img\n",
    "\n",
    "# if __name__ == \"__main__\":\n",
    "#     lbp_img = lbp_feature_extraction()\n"
   ]
  },
  {
   "cell_type": "markdown",
   "metadata": {},
   "source": [
    "Mengonversi Output LBP menjadi Vektor dan Menghubungkan ke FC Layer:"
   ]
  },
  {
   "cell_type": "code",
   "execution_count": 54,
   "metadata": {},
   "outputs": [],
   "source": [
    "# Channel Attention Module\n",
    "class ChannelAttention(nn.Module):\n",
    "    def __init__(self, in_channels, ratio=16):\n",
    "        super(ChannelAttention, self).__init__()\n",
    "        self.avg_pool = nn.AdaptiveAvgPool2d(1)\n",
    "        self.max_pool = nn.AdaptiveMaxPool2d(1)\n",
    "        \n",
    "        # MLP\n",
    "        self.fc1 = nn.Conv2d(in_channels, in_channels // ratio, kernel_size=1, bias=False)\n",
    "        self.fc2 = nn.Conv2d(in_channels // ratio, in_channels, kernel_size=1, bias=False)\n",
    "        self.relu = nn.ReLU()\n",
    "        self.sigmoid = nn.Sigmoid()\n",
    "\n",
    "    def forward(self, x):\n",
    "        avg_out = self.fc2(self.relu(self.fc1(self.avg_pool(x))))\n",
    "        max_out = self.fc2(self.relu(self.fc1(self.max_pool(x))))\n",
    "        out = avg_out + max_out\n",
    "        return self.sigmoid(out)\n",
    "\n",
    "# Spatial Attention Module\n",
    "class SpatialAttention(nn.Module):\n",
    "    def __init__(self, kernel_size=7):\n",
    "        super(SpatialAttention, self).__init__()\n",
    "        self.conv1 = nn.Conv2d(2, 1, kernel_size=kernel_size, padding=kernel_size//2, bias=False)\n",
    "        self.sigmoid = nn.Sigmoid()\n",
    "\n",
    "    def forward(self, x):\n",
    "        avg_out = torch.mean(x, dim=1, keepdim=True)\n",
    "        max_out, _ = torch.max(x, dim=1, keepdim=True)\n",
    "        x = torch.cat([avg_out, max_out], dim=1)\n",
    "        x = self.conv1(x)\n",
    "        return self.sigmoid(x)\n",
    "\n",
    "# CBAM Module (Channel + Spatial Attention)\n",
    "class CBAM(nn.Module):\n",
    "    def __init__(self, in_channels, ratio=16, kernel_size=7):\n",
    "        super(CBAM, self).__init__()\n",
    "        self.channel_attention = ChannelAttention(in_channels, ratio)\n",
    "        self.spatial_attention = SpatialAttention(kernel_size)\n",
    "\n",
    "    def forward(self, x):\n",
    "        x = x * self.channel_attention(x)\n",
    "        x = x * self.spatial_attention(x)\n",
    "        return x\n"
   ]
  },
  {
   "cell_type": "code",
   "execution_count": 55,
   "metadata": {},
   "outputs": [],
   "source": [
    "class ResNet18_CBAM(nn.Module):\n",
    "    def __init__(self, n_classes):\n",
    "        super(ResNet18_CBAM, self).__init__()\n",
    "        \n",
    "        self.dropout_percentage = 0.5\n",
    "        self.relu = nn.ReLU()\n",
    "        \n",
    "        # BLOCK-1 (starting block) input=(224x224) output=(56x56)\n",
    "        self.conv1 = nn.Conv2d(in_channels=1, out_channels=64, kernel_size=(7,7), stride=(2,2), padding=(3,3))\n",
    "        self.batchnorm1 = nn.BatchNorm2d(64)\n",
    "        self.maxpool1 = nn.MaxPool2d(kernel_size=(3,3), stride=(2,2), padding=(1,1))\n",
    "        \n",
    "        # CBAM after block1\n",
    "        self.cbam1 = CBAM(64)\n",
    "\n",
    "        # BLOCK-2 (1) input=(56x56) output = (56x56)\n",
    "        self.conv2_1_1 = nn.Conv2d(in_channels=64, out_channels=64, kernel_size=(3,3), stride=(1,1), padding=(1,1))\n",
    "        self.batchnorm2_1_1 = nn.BatchNorm2d(64)\n",
    "        self.conv2_1_2 = nn.Conv2d(in_channels=64, out_channels=64, kernel_size=(3,3), stride=(1,1), padding=(1,1))\n",
    "        self.batchnorm2_1_2 = nn.BatchNorm2d(64)\n",
    "        self.dropout2_1 = nn.Dropout(p=self.dropout_percentage)\n",
    "        # BLOCK-2 (2)\n",
    "        self.conv2_2_1 = nn.Conv2d(in_channels=64, out_channels=64, kernel_size=(3,3), stride=(1,1), padding=(1,1))\n",
    "        self.batchnorm2_2_1 = nn.BatchNorm2d(64)\n",
    "        self.conv2_2_2 = nn.Conv2d(in_channels=64, out_channels=64, kernel_size=(3,3), stride=(1,1), padding=(1,1))\n",
    "        self.batchnorm2_2_2 = nn.BatchNorm2d(64)\n",
    "        self.dropout2_2 = nn.Dropout(p=self.dropout_percentage)\n",
    "        \n",
    "        # CBAM after block2\n",
    "        self.cbam2 = CBAM(64)\n",
    "        \n",
    "        # BLOCK-3 (1) input=(56x56) output = (28x28)\n",
    "        self.conv3_1_1 = nn.Conv2d(in_channels=64, out_channels=128, kernel_size=(3,3), stride=(2,2), padding=(1,1))\n",
    "        self.batchnorm3_1_1 = nn.BatchNorm2d(128)\n",
    "        self.conv3_1_2 = nn.Conv2d(in_channels=128, out_channels=128, kernel_size=(3,3), stride=(1,1), padding=(1,1))\n",
    "        self.batchnorm3_1_2 = nn.BatchNorm2d(128)\n",
    "        self.concat_adjust_3 = nn.Conv2d(in_channels=64, out_channels=128, kernel_size=(1,1), stride=(2,2), padding=(0,0))\n",
    "        self.dropout3_1 = nn.Dropout(p=self.dropout_percentage)\n",
    "        # BLOCK-3 (2)\n",
    "        self.conv3_2_1 = nn.Conv2d(in_channels=128, out_channels=128, kernel_size=(3,3), stride=(1,1), padding=(1,1))\n",
    "        self.batchnorm3_2_1 = nn.BatchNorm2d(128)\n",
    "        self.conv3_2_2 = nn.Conv2d(in_channels=128, out_channels=128, kernel_size=(3,3), stride=(1,1), padding=(1,1))\n",
    "        self.batchnorm3_2_2 = nn.BatchNorm2d(128)\n",
    "        self.dropout3_2 = nn.Dropout(p=self.dropout_percentage)\n",
    "        \n",
    "        # CBAM after block3\n",
    "        self.cbam3 = CBAM(128)\n",
    "\n",
    "        # BLOCK-4 (1) input=(28x28) output = (14x14)\n",
    "        self.conv4_1_1 = nn.Conv2d(in_channels=128, out_channels=256, kernel_size=(3,3), stride=(2,2), padding=(1,1))\n",
    "        self.batchnorm4_1_1 = nn.BatchNorm2d(256)\n",
    "        self.conv4_1_2 = nn.Conv2d(in_channels=256, out_channels=256, kernel_size=(3,3), stride=(1,1), padding=(1,1))\n",
    "        self.batchnorm4_1_2 = nn.BatchNorm2d(256)\n",
    "        self.concat_adjust_4 = nn.Conv2d(in_channels=128, out_channels=256, kernel_size=(1,1), stride=(2,2), padding=(0,0))\n",
    "        self.dropout4_1 = nn.Dropout(p=self.dropout_percentage)\n",
    "        # BLOCK-4 (2)\n",
    "        self.conv4_2_1 = nn.Conv2d(in_channels=256, out_channels=256, kernel_size=(3,3), stride=(1,1), padding=(1,1))\n",
    "        self.batchnorm4_2_1 = nn.BatchNorm2d(256)\n",
    "        self.conv4_2_2 = nn.Conv2d(in_channels=256, out_channels=256, kernel_size=(3,3), stride=(1,1), padding=(1,1))\n",
    "        self.batchnorm4_2_2 = nn.BatchNorm2d(256)\n",
    "        self.dropout4_2 = nn.Dropout(p=self.dropout_percentage)\n",
    "        \n",
    "        # CBAM after block4\n",
    "        self.cbam4 = CBAM(256)\n",
    "\n",
    "        # BLOCK-5 (1) input=(14x14) output = (7x7)\n",
    "        self.conv5_1_1 = nn.Conv2d(in_channels=256, out_channels=512, kernel_size=(3,3), stride=(2,2), padding=(1,1))\n",
    "        self.batchnorm5_1_1 = nn.BatchNorm2d(512)\n",
    "        self.conv5_1_2 = nn.Conv2d(in_channels=512, out_channels=512, kernel_size=(3,3), stride=(1,1), padding=(1,1))\n",
    "        self.batchnorm5_1_2 = nn.BatchNorm2d(512)\n",
    "        self.concat_adjust_5 = nn.Conv2d(in_channels=256, out_channels=512, kernel_size=(1,1), stride=(2,2), padding=(0,0))\n",
    "        self.dropout5_1 = nn.Dropout(p=self.dropout_percentage)\n",
    "        # BLOCK-5 (2)\n",
    "        self.conv5_2_1 = nn.Conv2d(in_channels=512, out_channels=512, kernel_size=(3,3), stride=(1,1), padding=(1,1))\n",
    "        self.batchnorm5_2_1 = nn.BatchNorm2d(512)\n",
    "        self.conv5_2_2 = nn.Conv2d(in_channels=512, out_channels=512, kernel_size=(3,3), stride=(1,1), padding=(1,1))\n",
    "        self.batchnorm5_2_2 = nn.BatchNorm2d(512)\n",
    "        self.dropout5_2 = nn.Dropout(p=self.dropout_percentage)\n",
    "        \n",
    "        # CBAM after block5\n",
    "        self.cbam5 = CBAM(512)\n",
    "        \n",
    "        # Final Block input=(7x7) \n",
    "        # self.avgpool = nn.AvgPool2d(kernel_size=(7, 7), stride=(7, 7))  # Mengubah output menjadi (512, 1, 1)\n",
    "        self.avgpool = nn.AvgPool2d(kernel_size=(4, 4), stride=(4, 4))  # Output akan menjadi (512, 1, 1)\n",
    "        self.fc = nn.Linear(in_features=1 * 1 * 512, out_features=1000)  # 512 dari avgpool\n",
    "        self.out = nn.Linear(in_features=1000, out_features=n_classes)  # n_classes sesuai dengan jumlah kelas\n",
    "        # END\n",
    "\n",
    "    def forward(self, x):\n",
    "        # block 1 --> Starting block\n",
    "        x = self.relu(self.batchnorm1(self.conv1(x)))\n",
    "        op1 = self.maxpool1(x)\n",
    "        op1 = self.cbam1(op1)\n",
    "        # print(f\"Output after Block 1: {op1.shape}\")  # Cek ukuran output\n",
    "        \n",
    "        # block2 - 1\n",
    "        x = self.relu(self.batchnorm2_1_1(self.conv2_1_1(op1)))    # conv2_1 \n",
    "        x = self.batchnorm2_1_2(self.conv2_1_2(x))                 # conv2_1\n",
    "        x = self.dropout2_1(x)\n",
    "        # block2 - Adjust - No adjust in this layer as dimensions are already same\n",
    "        # block2 - Concatenate 1\n",
    "        op2_1 = self.relu(x + op1)\n",
    "        # block2 - 2\n",
    "        x = self.relu(self.batchnorm2_2_1(self.conv2_2_1(op2_1)))  # conv2_2 \n",
    "        x = self.batchnorm2_2_2(self.conv2_2_2(x))                 # conv2_2\n",
    "        x = self.dropout2_2(x)\n",
    "        # op - block2\n",
    "        op2 = self.relu(x + op2_1)\n",
    "        op2 = self.cbam2(op2)\n",
    "        # print(f\"Output after Block 2: {op2.shape}\")  # Cek ukuran output\n",
    "        \n",
    "        # block3 - 1[Convolution block]\n",
    "        x = self.relu(self.batchnorm3_1_1(self.conv3_1_1(op2)))    # conv3_1\n",
    "        x = self.batchnorm3_1_2(self.conv3_1_2(x))                 # conv3_1\n",
    "        x = self.dropout3_1(x)\n",
    "        # block3 - Adjust\n",
    "        op2 = self.concat_adjust_3(op2) # SKIP CONNECTION\n",
    "        # block3 - Concatenate 1\n",
    "        op3_1 = self.relu(x + op2)\n",
    "        # block3 - 2[Identity Block]\n",
    "        x = self.relu(self.batchnorm3_2_1(self.conv3_2_1(op3_1)))  # conv3_2\n",
    "        x = self.batchnorm3_2_2(self.conv3_2_2(x))                 # conv3_2 \n",
    "        x = self.dropout3_2(x)\n",
    "        # op - block3\n",
    "        op3 = self.relu(x + op3_1)\n",
    "        op3 = self.cbam3(op3)\n",
    "        # print(f\"Output after Block 3: {op3.shape}\")  # Cek ukuran output\n",
    "\n",
    "        # block4 - 1[Convolition block]\n",
    "        x = self.relu(self.batchnorm4_1_1(self.conv4_1_1(op3)))    # conv4_1\n",
    "        x = self.batchnorm4_1_2(self.conv4_1_2(x))                 # conv4_1\n",
    "        x = self.dropout4_1(x)\n",
    "        # block4 - Adjust\n",
    "        op3 = self.concat_adjust_4(op3) # SKIP CONNECTION\n",
    "        # block4 - Concatenate 1\n",
    "        op4_1 = self.relu(x + op3)\n",
    "        # block4 - 2[Identity Block]\n",
    "        x = self.relu(self.batchnorm4_2_1(self.conv4_2_1(op4_1)))  # conv4_2\n",
    "        x = self.batchnorm4_2_2(self.conv4_2_2(x))                 # conv4_2\n",
    "        x = self.dropout4_2(x)\n",
    "        # op - block4\n",
    "        op4 = self.relu(x + op4_1)\n",
    "        op4 = self.cbam4(op4)\n",
    "        # print(f\"Output after Block 4: {op4.shape}\")  # Cek ukuran output\n",
    "\n",
    "        # block5 - 1[Convolution Block]\n",
    "        x = self.relu(self.batchnorm5_1_1(self.conv5_1_1(op4)))    # conv5_1\n",
    "        x = self.batchnorm5_1_2(self.conv5_1_2(x))                 # conv5_1\n",
    "        x = self.dropout5_1(x)\n",
    "        # block5 - Adjust\n",
    "        op4 = self.concat_adjust_5(op4) # SKIP CONNECTION\n",
    "        # block5 - Concatenate 1\n",
    "        op5_1 = self.relu(x + op4)\n",
    "        # block5 - 2[Identity Block]\n",
    "        x = self.relu(self.batchnorm5_2_1(self.conv5_2_1(op5_1)))  # conv5_2\n",
    "        x = self.batchnorm5_2_2(self.conv5_2_2(x))                 # conv5_2\n",
    "        x = self.dropout5_2(x)\n",
    "        # op - block5\n",
    "        op5 = self.relu(x + op5_1)\n",
    "        op5 = self.cbam5(op5)\n",
    "        # print(f\"Output after Block 5: {op5.shape}\")  # Cek ukuran output\n",
    "        \n",
    "        # final operations\n",
    "        x = self.avgpool(op5)\n",
    "        # print(f\"Shape after avgpool: {x.shape}\")\n",
    "        x = torch.flatten(x, 1)\n",
    "        # print(f\"Shape after flatten: {x.shape}\")\n",
    "        xfeatures = self.fc(x)\n",
    "        # print(f\"Output after fc: {x.shape}\")  # Cek ukuran output\n",
    "        # x = self.out(x) # Jangan panggil self.out\n",
    "        # print(f\"Output self.out: {x.shape}\")  # Cek ukuran output\n",
    "        return xfeatures\n"
   ]
  },
  {
   "cell_type": "code",
   "execution_count": 56,
   "metadata": {},
   "outputs": [],
   "source": [
    "class CombinedModel(nn.Module):\n",
    "    def __init__(self, n_classes, lbp_feature_size):\n",
    "        super(CombinedModel, self).__init__()\n",
    "        self.resnet = ResNet18_CBAM(n_classes)\n",
    "        self.fc_lbp = nn.Linear(lbp_feature_size, 128)  # Ubah lbp_feature_size sesuai ukuran LBP\n",
    "        self.fc_combined = nn.Linear(128 + 1000, n_classes)  # Gabungkan output LBP dan ResNet\n",
    "\n",
    "    def forward(self, x):\n",
    "        # Ekstraksi fitur LBP\n",
    "        lbp_features = lbp_feature_extraction_batch(x)  # Ekstrak fitur LBP\n",
    "        lbp_features = torch.from_numpy(lbp_features).float().to(x.device)  # Konversi ke tensor dan pindahkan ke device\n",
    "        lbp_features = lbp_features.view(lbp_features.size(0), -1)  # Flatten jika perlu\n",
    "        # print(f\"LBP feature size: {lbp_features.shape}\")\n",
    "        \n",
    "        # Proses fitur LBP\n",
    "        lbp_features = self.fc_lbp(lbp_features)\n",
    "        # print(f\"Processed LBP feature size: {lbp_features.shape}\")\n",
    "        \n",
    "        # Proses melalui ResNet (output fitur sebelum klasifikasi akhir)\n",
    "        resnet_output = self.resnet(x)  # Output [32,1000]\n",
    "        # print(f\"ResNet output size: {resnet_output.shape}\")\n",
    "        \n",
    "        # Gabungkan output LBP dan ResNet\n",
    "        combined = torch.cat((lbp_features, resnet_output), dim=1)  # [32,1128]\n",
    "        # print(f\"Combined feature size: {combined.shape}\")\n",
    "        \n",
    "        # Proses melalui fully connected layer\n",
    "        output = self.fc_combined(combined)  # [32,7]\n",
    "        # print(f\"Output after fc_combined: {output.shape}\")\n",
    "        \n",
    "        return output"
   ]
  },
  {
   "cell_type": "markdown",
   "metadata": {},
   "source": [
    "Training Model dengan Batch Processing:\n"
   ]
  },
  {
   "cell_type": "code",
   "execution_count": 57,
   "metadata": {},
   "outputs": [
    {
     "name": "stdout",
     "output_type": "stream",
     "text": [
      "cuda\n"
     ]
    }
   ],
   "source": [
    "device = torch.device(\"cuda\" if torch.cuda.is_available() else \"cpu\")\n",
    "print(device)"
   ]
  },
  {
   "cell_type": "markdown",
   "metadata": {},
   "source": [
    "Memastikan tidak ada diluar rentang 0-6 pada label:\n"
   ]
  },
  {
   "cell_type": "code",
   "execution_count": 58,
   "metadata": {},
   "outputs": [
    {
     "name": "stdout",
     "output_type": "stream",
     "text": [
      "tensor([0, 1, 2, 3, 4, 5, 6])\n"
     ]
    }
   ],
   "source": [
    "labels = torch.tensor(combined_df_train['emotion'].values)\n",
    "print(labels.unique())  # Pastikan label tidak ada yang out-of-range"
   ]
  },
  {
   "cell_type": "code",
   "execution_count": 112,
   "metadata": {},
   "outputs": [],
   "source": [
    "# device = torch.device('cpu')\n",
    "# model = CombinedModel(n_classes=7, lbp_feature_size=lbp_feature_size).to(device)"
   ]
  },
  {
   "cell_type": "code",
   "execution_count": 59,
   "metadata": {},
   "outputs": [
    {
     "data": {
      "text/plain": [
       "device(type='cuda')"
      ]
     },
     "execution_count": 59,
     "metadata": {},
     "output_type": "execute_result"
    }
   ],
   "source": [
    "device"
   ]
  },
  {
   "cell_type": "code",
   "execution_count": 63,
   "metadata": {},
   "outputs": [
    {
     "name": "stderr",
     "output_type": "stream",
     "text": [
      "C:\\Users\\ASUS\\AppData\\Local\\Temp\\ipykernel_18020\\3873053852.py:15: FutureWarning: You are using `torch.load` with `weights_only=False` (the current default value), which uses the default pickle module implicitly. It is possible to construct malicious pickle data which will execute arbitrary code during unpickling (See https://github.com/pytorch/pytorch/blob/main/SECURITY.md#untrusted-models for more details). In a future release, the default value for `weights_only` will be flipped to `True`. This limits the functions that could be executed during unpickling. Arbitrary objects will no longer be allowed to be loaded via this mode unless they are explicitly allowlisted by the user via `torch.serialization.add_safe_globals`. We recommend you start setting `weights_only=True` for any use case where you don't have full control of the loaded file. Please open an issue on GitHub for any issues related to this experimental feature.\n",
      "  checkpoint = torch.load(checkpoint_path)\n"
     ]
    },
    {
     "name": "stdout",
     "output_type": "stream",
     "text": [
      "Melanjutkan dari epoch 2, Akurasi terbaik: 16.91%\n"
     ]
    },
    {
     "name": "stderr",
     "output_type": "stream",
     "text": [
      "Epoch 2/10 [Training]:   0%|          | 0/96 [00:06<?, ?it/s]\n"
     ]
    },
    {
     "ename": "KeyboardInterrupt",
     "evalue": "",
     "output_type": "error",
     "traceback": [
      "\u001b[1;31m---------------------------------------------------------------------------\u001b[0m",
      "\u001b[1;31mKeyboardInterrupt\u001b[0m                         Traceback (most recent call last)",
      "Cell \u001b[1;32mIn[63], line 36\u001b[0m\n\u001b[0;32m     33\u001b[0m images \u001b[38;5;241m=\u001b[39m images\u001b[38;5;241m.\u001b[39mto(device)\n\u001b[0;32m     34\u001b[0m labels \u001b[38;5;241m=\u001b[39m labels\u001b[38;5;241m.\u001b[39mto(device)\n\u001b[1;32m---> 36\u001b[0m outputs \u001b[38;5;241m=\u001b[39m \u001b[43mmodel\u001b[49m\u001b[43m(\u001b[49m\u001b[43mimages\u001b[49m\u001b[43m)\u001b[49m\n\u001b[0;32m     37\u001b[0m loss \u001b[38;5;241m=\u001b[39m criterion(outputs, labels)\n\u001b[0;32m     39\u001b[0m optimizer\u001b[38;5;241m.\u001b[39mzero_grad()\n",
      "File \u001b[1;32md:\\Ando File 4 Kuliah\\A SKRIPSI\\RISETku\\KERJA\\CODE\\venv\\Lib\\site-packages\\torch\\nn\\modules\\module.py:1553\u001b[0m, in \u001b[0;36mModule._wrapped_call_impl\u001b[1;34m(self, *args, **kwargs)\u001b[0m\n\u001b[0;32m   1551\u001b[0m     \u001b[38;5;28;01mreturn\u001b[39;00m \u001b[38;5;28mself\u001b[39m\u001b[38;5;241m.\u001b[39m_compiled_call_impl(\u001b[38;5;241m*\u001b[39margs, \u001b[38;5;241m*\u001b[39m\u001b[38;5;241m*\u001b[39mkwargs)  \u001b[38;5;66;03m# type: ignore[misc]\u001b[39;00m\n\u001b[0;32m   1552\u001b[0m \u001b[38;5;28;01melse\u001b[39;00m:\n\u001b[1;32m-> 1553\u001b[0m     \u001b[38;5;28;01mreturn\u001b[39;00m \u001b[38;5;28;43mself\u001b[39;49m\u001b[38;5;241;43m.\u001b[39;49m\u001b[43m_call_impl\u001b[49m\u001b[43m(\u001b[49m\u001b[38;5;241;43m*\u001b[39;49m\u001b[43margs\u001b[49m\u001b[43m,\u001b[49m\u001b[43m \u001b[49m\u001b[38;5;241;43m*\u001b[39;49m\u001b[38;5;241;43m*\u001b[39;49m\u001b[43mkwargs\u001b[49m\u001b[43m)\u001b[49m\n",
      "File \u001b[1;32md:\\Ando File 4 Kuliah\\A SKRIPSI\\RISETku\\KERJA\\CODE\\venv\\Lib\\site-packages\\torch\\nn\\modules\\module.py:1562\u001b[0m, in \u001b[0;36mModule._call_impl\u001b[1;34m(self, *args, **kwargs)\u001b[0m\n\u001b[0;32m   1557\u001b[0m \u001b[38;5;66;03m# If we don't have any hooks, we want to skip the rest of the logic in\u001b[39;00m\n\u001b[0;32m   1558\u001b[0m \u001b[38;5;66;03m# this function, and just call forward.\u001b[39;00m\n\u001b[0;32m   1559\u001b[0m \u001b[38;5;28;01mif\u001b[39;00m \u001b[38;5;129;01mnot\u001b[39;00m (\u001b[38;5;28mself\u001b[39m\u001b[38;5;241m.\u001b[39m_backward_hooks \u001b[38;5;129;01mor\u001b[39;00m \u001b[38;5;28mself\u001b[39m\u001b[38;5;241m.\u001b[39m_backward_pre_hooks \u001b[38;5;129;01mor\u001b[39;00m \u001b[38;5;28mself\u001b[39m\u001b[38;5;241m.\u001b[39m_forward_hooks \u001b[38;5;129;01mor\u001b[39;00m \u001b[38;5;28mself\u001b[39m\u001b[38;5;241m.\u001b[39m_forward_pre_hooks\n\u001b[0;32m   1560\u001b[0m         \u001b[38;5;129;01mor\u001b[39;00m _global_backward_pre_hooks \u001b[38;5;129;01mor\u001b[39;00m _global_backward_hooks\n\u001b[0;32m   1561\u001b[0m         \u001b[38;5;129;01mor\u001b[39;00m _global_forward_hooks \u001b[38;5;129;01mor\u001b[39;00m _global_forward_pre_hooks):\n\u001b[1;32m-> 1562\u001b[0m     \u001b[38;5;28;01mreturn\u001b[39;00m \u001b[43mforward_call\u001b[49m\u001b[43m(\u001b[49m\u001b[38;5;241;43m*\u001b[39;49m\u001b[43margs\u001b[49m\u001b[43m,\u001b[49m\u001b[43m \u001b[49m\u001b[38;5;241;43m*\u001b[39;49m\u001b[38;5;241;43m*\u001b[39;49m\u001b[43mkwargs\u001b[49m\u001b[43m)\u001b[49m\n\u001b[0;32m   1564\u001b[0m \u001b[38;5;28;01mtry\u001b[39;00m:\n\u001b[0;32m   1565\u001b[0m     result \u001b[38;5;241m=\u001b[39m \u001b[38;5;28;01mNone\u001b[39;00m\n",
      "Cell \u001b[1;32mIn[56], line 10\u001b[0m, in \u001b[0;36mCombinedModel.forward\u001b[1;34m(self, x)\u001b[0m\n\u001b[0;32m      8\u001b[0m \u001b[38;5;28;01mdef\u001b[39;00m \u001b[38;5;21mforward\u001b[39m(\u001b[38;5;28mself\u001b[39m, x):\n\u001b[0;32m      9\u001b[0m     \u001b[38;5;66;03m# Ekstraksi fitur LBP\u001b[39;00m\n\u001b[1;32m---> 10\u001b[0m     lbp_features \u001b[38;5;241m=\u001b[39m \u001b[43mlbp_feature_extraction_batch\u001b[49m\u001b[43m(\u001b[49m\u001b[43mx\u001b[49m\u001b[43m)\u001b[49m  \u001b[38;5;66;03m# Ekstrak fitur LBP\u001b[39;00m\n\u001b[0;32m     11\u001b[0m     lbp_features \u001b[38;5;241m=\u001b[39m torch\u001b[38;5;241m.\u001b[39mfrom_numpy(lbp_features)\u001b[38;5;241m.\u001b[39mfloat()\u001b[38;5;241m.\u001b[39mto(x\u001b[38;5;241m.\u001b[39mdevice)  \u001b[38;5;66;03m# Konversi ke tensor dan pindahkan ke device\u001b[39;00m\n\u001b[0;32m     12\u001b[0m     lbp_features \u001b[38;5;241m=\u001b[39m lbp_features\u001b[38;5;241m.\u001b[39mview(lbp_features\u001b[38;5;241m.\u001b[39msize(\u001b[38;5;241m0\u001b[39m), \u001b[38;5;241m-\u001b[39m\u001b[38;5;241m1\u001b[39m)  \u001b[38;5;66;03m# Flatten jika perlu\u001b[39;00m\n",
      "Cell \u001b[1;32mIn[53], line 61\u001b[0m, in \u001b[0;36mlbp_feature_extraction_batch\u001b[1;34m(images, radius, neighbors)\u001b[0m\n\u001b[0;32m     59\u001b[0m lbp_features \u001b[38;5;241m=\u001b[39m []\n\u001b[0;32m     60\u001b[0m \u001b[38;5;28;01mfor\u001b[39;00m img \u001b[38;5;129;01min\u001b[39;00m images:\n\u001b[1;32m---> 61\u001b[0m     lbp_img \u001b[38;5;241m=\u001b[39m \u001b[43mcalculate_lbp_image\u001b[49m\u001b[43m(\u001b[49m\u001b[43mimg\u001b[49m\u001b[38;5;241;43m.\u001b[39;49m\u001b[43msqueeze\u001b[49m\u001b[43m(\u001b[49m\u001b[43m)\u001b[49m\u001b[38;5;241;43m.\u001b[39;49m\u001b[43mcpu\u001b[49m\u001b[43m(\u001b[49m\u001b[43m)\u001b[49m\u001b[38;5;241;43m.\u001b[39;49m\u001b[43mnumpy\u001b[49m\u001b[43m(\u001b[49m\u001b[43m)\u001b[49m\u001b[43m,\u001b[49m\u001b[43m \u001b[49m\u001b[43mradius\u001b[49m\u001b[43m,\u001b[49m\u001b[43m \u001b[49m\u001b[43mneighbors\u001b[49m\u001b[43m)\u001b[49m  \u001b[38;5;66;03m# Ekstraksi LBP dari gambar\u001b[39;00m\n\u001b[0;32m     62\u001b[0m     lbp_hist, _ \u001b[38;5;241m=\u001b[39m np\u001b[38;5;241m.\u001b[39mhistogram(lbp_img\u001b[38;5;241m.\u001b[39mravel(), bins\u001b[38;5;241m=\u001b[39mnp\u001b[38;5;241m.\u001b[39marange(\u001b[38;5;241m0\u001b[39m, neighbors \u001b[38;5;241m+\u001b[39m \u001b[38;5;241m3\u001b[39m), \u001b[38;5;28mrange\u001b[39m\u001b[38;5;241m=\u001b[39m(\u001b[38;5;241m0\u001b[39m, neighbors \u001b[38;5;241m+\u001b[39m \u001b[38;5;241m2\u001b[39m))\n\u001b[0;32m     63\u001b[0m     lbp_hist \u001b[38;5;241m=\u001b[39m lbp_hist\u001b[38;5;241m.\u001b[39mastype(\u001b[38;5;124m\"\u001b[39m\u001b[38;5;124mfloat\u001b[39m\u001b[38;5;124m\"\u001b[39m)\n",
      "Cell \u001b[1;32mIn[53], line 36\u001b[0m, in \u001b[0;36mcalculate_lbp_image\u001b[1;34m(img, radius, neighbors)\u001b[0m\n\u001b[0;32m     34\u001b[0m \u001b[38;5;28;01mfor\u001b[39;00m i \u001b[38;5;129;01min\u001b[39;00m \u001b[38;5;28mrange\u001b[39m(radius, height \u001b[38;5;241m-\u001b[39m radius):\n\u001b[0;32m     35\u001b[0m     \u001b[38;5;28;01mfor\u001b[39;00m j \u001b[38;5;129;01min\u001b[39;00m \u001b[38;5;28mrange\u001b[39m(radius, width \u001b[38;5;241m-\u001b[39m radius):\n\u001b[1;32m---> 36\u001b[0m         lbp_image[i, j] \u001b[38;5;241m=\u001b[39m \u001b[43mlbp_calculated_pixel\u001b[49m\u001b[43m(\u001b[49m\u001b[43mimg\u001b[49m\u001b[43m,\u001b[49m\u001b[43m \u001b[49m\u001b[43mi\u001b[49m\u001b[43m,\u001b[49m\u001b[43m \u001b[49m\u001b[43mj\u001b[49m\u001b[43m,\u001b[49m\u001b[43m \u001b[49m\u001b[43mradius\u001b[49m\u001b[43m,\u001b[49m\u001b[43m \u001b[49m\u001b[43mneighbors\u001b[49m\u001b[43m)\u001b[49m\n\u001b[0;32m     38\u001b[0m \u001b[38;5;66;03m# Normalisasi jika diperlukan (mengembalikan nilai dalam rentang 0-255)\u001b[39;00m\n\u001b[0;32m     39\u001b[0m lbp_image_normalized \u001b[38;5;241m=\u001b[39m np\u001b[38;5;241m.\u001b[39muint8(lbp_image \u001b[38;5;241m/\u001b[39m lbp_image\u001b[38;5;241m.\u001b[39mmax() \u001b[38;5;241m*\u001b[39m \u001b[38;5;241m255\u001b[39m)\n",
      "Cell \u001b[1;32mIn[53], line 17\u001b[0m, in \u001b[0;36mlbp_calculated_pixel\u001b[1;34m(img, x, y, radius, neighbors)\u001b[0m\n\u001b[0;32m     15\u001b[0m \u001b[38;5;28;01mfor\u001b[39;00m n \u001b[38;5;129;01min\u001b[39;00m \u001b[38;5;28mrange\u001b[39m(neighbors):\n\u001b[0;32m     16\u001b[0m     theta \u001b[38;5;241m=\u001b[39m \u001b[38;5;241m2\u001b[39m \u001b[38;5;241m*\u001b[39m math\u001b[38;5;241m.\u001b[39mpi \u001b[38;5;241m*\u001b[39m n \u001b[38;5;241m/\u001b[39m neighbors  \u001b[38;5;66;03m# Sudut\u001b[39;00m\n\u001b[1;32m---> 17\u001b[0m     x_n \u001b[38;5;241m=\u001b[39m x \u001b[38;5;241m+\u001b[39m radius \u001b[38;5;241m*\u001b[39m \u001b[43mmath\u001b[49m\u001b[38;5;241;43m.\u001b[39;49m\u001b[43msin\u001b[49m\u001b[43m(\u001b[49m\u001b[43mtheta\u001b[49m\u001b[43m)\u001b[49m   \u001b[38;5;66;03m# Koordinat tetangga dalam pola melingkar\u001b[39;00m\n\u001b[0;32m     18\u001b[0m     y_n \u001b[38;5;241m=\u001b[39m y \u001b[38;5;241m+\u001b[39m radius \u001b[38;5;241m*\u001b[39m math\u001b[38;5;241m.\u001b[39mcos(theta)\n\u001b[0;32m     19\u001b[0m     neighbor_value \u001b[38;5;241m=\u001b[39m get_pixel_value(img, center, x_n, y_n)\n",
      "\u001b[1;31mKeyboardInterrupt\u001b[0m: "
     ]
    }
   ],
   "source": [
    "import torch\n",
    "\n",
    "# Inisialisasi model dan optimasi\n",
    "model = CombinedModel(n_classes=7, lbp_feature_size=lbp_feature_size).to(device)\n",
    "criterion = nn.CrossEntropyLoss()\n",
    "optimizer = torch.optim.SGD(model.parameters(), lr=0.9, momentum=0.1, weight_decay=0.0001)\n",
    "\n",
    "# Variabel untuk menyimpan akurasi terbaik\n",
    "best_accuracy = 0.0\n",
    "start_epoch = 0  # Epoch awal default\n",
    "\n",
    "# Jika ingin melanjutkan dari checkpoint\n",
    "checkpoint_path = 'model_checkpoint_latest.pt'  # Nama file checkpoint terakhir\n",
    "try:\n",
    "    checkpoint = torch.load(checkpoint_path)\n",
    "    model.load_state_dict(checkpoint['model_state_dict'])\n",
    "    optimizer.load_state_dict(checkpoint['optimizer_state_dict'])\n",
    "    best_accuracy = checkpoint['accuracy']\n",
    "    start_epoch = checkpoint['epoch']  # Mulai dari epoch terakhir\n",
    "    print(f\"Melanjutkan dari epoch {start_epoch+1}, Akurasi terbaik: {best_accuracy:.2f}%\")\n",
    "except FileNotFoundError:\n",
    "    print(\"Tidak ada checkpoint, memulai training dari awal.\")\n",
    "\n",
    "# Training loop dengan validasi\n",
    "epochs = 10\n",
    "for epoch in range(start_epoch, epochs):\n",
    "    running_loss = 0.0\n",
    "    model.train()\n",
    "    \n",
    "    progress_bar_train = tqdm(train_loader, desc=f\"Epoch {epoch+1}/{epochs} [Training]\")\n",
    "    \n",
    "    for images, labels in progress_bar_train:\n",
    "        images = images.to(device)\n",
    "        labels = labels.to(device)\n",
    "        \n",
    "        outputs = model(images)\n",
    "        loss = criterion(outputs, labels)\n",
    "        \n",
    "        optimizer.zero_grad()\n",
    "        loss.backward()\n",
    "        optimizer.step()\n",
    "        \n",
    "        running_loss += loss.item()\n",
    "        progress_bar_train.set_postfix({'Training Loss': loss.item()})\n",
    "    \n",
    "    average_loss = running_loss / len(train_loader)\n",
    "    print(f\"Epoch {epoch + 1}, Average Training Loss: {average_loss:.4f}\")\n",
    "\n",
    "    # Validasi\n",
    "    model.eval()\n",
    "    val_loss = 0.0\n",
    "    correct = 0\n",
    "    total = 0\n",
    "\n",
    "    progress_bar_val = tqdm(test_loader, desc=f\"Epoch {epoch+1}/{epochs} [Validating]\")\n",
    "\n",
    "    with torch.no_grad():\n",
    "        for images, labels in progress_bar_val:\n",
    "            images = images.to(device)\n",
    "            labels = labels.to(device)\n",
    "            \n",
    "            outputs = model(images)\n",
    "            loss = criterion(outputs, labels)\n",
    "            val_loss += loss.item()\n",
    "\n",
    "            _, predicted = torch.max(outputs.data, 1)\n",
    "            total += labels.size(0)\n",
    "            correct += (predicted == labels).sum().item()\n",
    "            \n",
    "            progress_bar_val.set_postfix({'Validation Loss': loss.item()})\n",
    "\n",
    "        val_loss /= len(test_loader)\n",
    "        accuracy = 100 * correct / total\n",
    "        print(f\"Validation Loss: {val_loss:.4f}, Accuracy: {accuracy:.2f}%\")\n",
    "\n",
    "    # Simpan model jika akurasi lebih baik dari sebelumnya (model dengan akurasi terbaik)\n",
    "    if accuracy > best_accuracy:\n",
    "        best_accuracy = accuracy\n",
    "        checkpoint_best = {\n",
    "            'epoch': epoch + 1,  # Simpan epoch berikutnya\n",
    "            'model_state_dict': model.state_dict(),\n",
    "            'optimizer_state_dict': optimizer.state_dict(),\n",
    "            'val_loss': val_loss,\n",
    "            'accuracy': accuracy,\n",
    "        }\n",
    "        torch.save(checkpoint_best, 'model_checkpoint_best.pt')\n",
    "        print(f\"Model dengan akurasi terbaik disimpan: {accuracy:.2f}% pada epoch {epoch + 1}\")\n",
    "\n",
    "    # Simpan model terakhir yang di-train (model terakhir setiap epoch)\n",
    "    checkpoint_latest = {\n",
    "        'epoch': epoch + 1,  # Simpan epoch berikutnya\n",
    "        'model_state_dict': model.state_dict(),\n",
    "        'optimizer_state_dict': optimizer.state_dict(),\n",
    "        'val_loss': val_loss,\n",
    "        'accuracy': accuracy,\n",
    "    }\n",
    "    torch.save(checkpoint_latest, 'model_checkpoint_latest.pt')\n",
    "    print(f\"Model terakhir disimpan setelah epoch {epoch + 1}\")\n",
    "\n",
    "print(\"Training dan validasi selesai.\")\n"
   ]
  },
  {
   "cell_type": "code",
   "execution_count": null,
   "metadata": {},
   "outputs": [],
   "source": []
  }
 ],
 "metadata": {
  "kernelspec": {
   "display_name": "venv",
   "language": "python",
   "name": "python3"
  },
  "language_info": {
   "codemirror_mode": {
    "name": "ipython",
    "version": 3
   },
   "file_extension": ".py",
   "mimetype": "text/x-python",
   "name": "python",
   "nbconvert_exporter": "python",
   "pygments_lexer": "ipython3",
   "version": "3.12.6"
  }
 },
 "nbformat": 4,
 "nbformat_minor": 2
}
